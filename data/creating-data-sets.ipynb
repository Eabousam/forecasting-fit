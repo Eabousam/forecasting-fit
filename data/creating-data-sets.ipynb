{
 "cells": [
  {
   "cell_type": "code",
   "execution_count": 2,
   "id": "83b92252",
   "metadata": {},
   "outputs": [],
   "source": [
    "import pandas as pd\n",
    "import numpy as np"
   ]
  },
  {
   "cell_type": "markdown",
   "id": "aaf0c06d",
   "metadata": {},
   "source": [
    "## Making sequence count data sets from pruned GISAID metadata\n",
    "\n",
    "The `giasaid_metadata_pruned.tsv` is generated from the Nextstrain-curated GISAID metadata. Details for this can be found in `../data/README.md`."
   ]
  },
  {
   "cell_type": "code",
   "execution_count": 3,
   "id": "e96f43de",
   "metadata": {},
   "outputs": [],
   "source": [
    "# https://data.nextstrain.org/files/ncov/open/metadata.tsv.gz\n",
    "raw_metadata_reader = pd.read_csv(\n",
    "    \"../data/gisaid_metadata_pruned.tsv\", \n",
    "    sep=\"\\t\",\n",
    "    usecols=(\n",
    "        \"strain\",\n",
    "        \"date\",\n",
    "        \"date_submitted\",\n",
    "        \"country\",\n",
    "        \"division\",\n",
    "        \"Nextstrain_clade\"\n",
    "        ),\n",
    "    dtype={\n",
    "        \"country\": \"category\",\n",
    "        \"division\": \"category\",\n",
    "        \"Nextstrain_clade\": \"category\",\n",
    "        },\n",
    "    chunksize=100000)"
   ]
  },
  {
   "cell_type": "code",
   "execution_count": 4,
   "id": "e6ed3304",
   "metadata": {},
   "outputs": [],
   "source": [
    "# Countries of interest\n",
    "locations = [\"USA\", \"Japan\", \"United Kingdom\", \"Australia\", \"Brazil\", \"South Africa\"]\n",
    "start_date = \"2022-01-01\"\n",
    "end_date = \"2022-06-30\"\n",
    "\n",
    "# Borrowing from John here\n",
    "def clean_metadata(metadata):\n",
    "    # Filter to countries\n",
    "    metadata = metadata[metadata[\"country\"].isin(locations)]\n",
    "    \n",
    "    # Remove ambigious dates\n",
    "    unambiguous_dates = (metadata[\"date\"] != \"?\") & (metadata[\"date\"].str.count(\"-\") == 2)\n",
    "    unambiguous_dates = unambiguous_dates & ~(metadata[\"date\"].str.contains(\"X\", na=True))\n",
    "    metadata = metadata[unambiguous_dates].copy()\n",
    "    \n",
    "    # Filter to date range\n",
    "    metadata[\"date\"] = pd.to_datetime(metadata[\"date\"])\n",
    "    metadata[\"date_submitted\"] = pd.to_datetime(metadata[\"date_submitted\"])\n",
    "\n",
    "    date_since_start_date = (metadata[\"date\"] >= start_date)\n",
    "    date_before_end_date = (metadata[\"date\"] <= end_date)\n",
    "    metadata = metadata[(date_since_start_date) & (date_before_end_date)].copy()\n",
    "        \n",
    "    # Filter records without NS clade\n",
    "    metadata = metadata[~pd.isnull(metadata[\"Nextstrain_clade\"])].copy()\n",
    "    \n",
    "    # Remove bad sequences (https://github.com/blab/rt-from-frequency-dynamics/tree/master/data/omicron-countries-split)\n",
    "    return metadata"
   ]
  },
  {
   "cell_type": "code",
   "execution_count": null,
   "id": "5da8d57f",
   "metadata": {},
   "outputs": [],
   "source": [
    "metadata_chunks = [clean_metadata(chunk) for chunk in raw_metadata_reader]"
   ]
  },
  {
   "cell_type": "code",
   "execution_count": null,
   "id": "3f558b14",
   "metadata": {},
   "outputs": [],
   "source": [
    "metadata = pd.concat(metadata_chunks, ignore_index=True)\n",
    "metadata"
   ]
  },
  {
   "cell_type": "code",
   "execution_count": null,
   "id": "14fb0ad3",
   "metadata": {},
   "outputs": [],
   "source": [
    "# Map clade to variant\n",
    "clade_to_variant = {\"21A (Delta)\" : \"Delta\", \n",
    "                    \"21I (Delta)\" : \"Delta\", \n",
    "                    \"21J (Delta)\" : \"Delta\", \n",
    "                    \"21K (Omicron)\" : \"Omicron 21K\", \n",
    "                    \"21L (Omicron)\" : \"Omicron 21L\", \n",
    "                    \"22A (Omicron)\" : \"Omicron 22A\", \n",
    "                    \"22B (Omicron)\" : \"Omicron 22B\", \n",
    "                    \"22C (Omicron)\" : \"Omicron 22C\"}\n",
    "\n",
    "metadata[\"variant\"] = (metadata[\"Nextstrain_clade\"]\n",
    "                       .map(clade_to_variant)\n",
    "                       .fillna(\"other\")\n",
    "                      )\n",
    "metadata"
   ]
  },
  {
   "cell_type": "markdown",
   "id": "0b4c0bb3",
   "metadata": {},
   "source": [
    "## Creating data sets as of given observation dates"
   ]
  },
  {
   "cell_type": "code",
   "execution_count": null,
   "id": "ef30e30a",
   "metadata": {},
   "outputs": [],
   "source": [
    "def count_sequences_with_submission_date(metadata):    \n",
    "    grouped = metadata.groupby([\"date\", \"country\", \"variant\"]) \n",
    "    \n",
    "    def compute_delay(x):\n",
    "        delays = (x[\"date_submitted\"]\n",
    "                  .value_counts(normalize=False)\n",
    "                  .rename_axis('date_submitted')\n",
    "                  .reset_index(name='sequences'))\n",
    "        \n",
    "        delays = delays.sort_values(\"date_submitted\")\n",
    "        return delays\n",
    "    \n",
    "    out = (grouped\n",
    "           .apply(compute_delay)\n",
    "           .reset_index()\n",
    "           .drop(columns=[\"level_3\"])\n",
    "           .rename(columns={\"country\": \"location\"}))\n",
    "    return out\n",
    "\n",
    "delayed = count_sequences_with_submission_date(metadata)\n",
    "delayed"
   ]
  },
  {
   "cell_type": "code",
   "execution_count": null,
   "id": "337d34d2",
   "metadata": {},
   "outputs": [],
   "source": [
    "delayed.to_csv(f\"./seq_counts_delayed.tsv\", sep=\"\\t\", index = False)"
   ]
  },
  {
   "cell_type": "code",
   "execution_count": 8,
   "id": "427b8eab",
   "metadata": {},
   "outputs": [],
   "source": [
    "def observe_sequence_counts(delayed, obs_date=None):\n",
    "    # Given an observation date as well as counts of sequences and their submission dates,\n",
    "    # Reconstruct data available on observation date\n",
    "    \n",
    "    obs_seq = delayed.copy()\n",
    "    \n",
    "    # Filter to sequences submitted on or before date\n",
    "    if obs_date:\n",
    "        obs_seq = obs_seq[obs_seq[\"date_submitted\"] < obs_date]\n",
    "        \n",
    "    # Sum across remaining sequences\n",
    "    obs_seq = (obs_seq\n",
    "     .groupby([\"date\", \"location\", \"variant\"])[\"sequences\"]\n",
    "     .sum()).reset_index()\n",
    "    \n",
    "    # Sort data\n",
    "    obs_seq = obs_seq.sort_values([\"location\", \"variant\", \"date\"])\n",
    "        \n",
    "    # Remove entries with no observed sequences\n",
    "    obs_seq = obs_seq[obs_seq[\"sequences\"] > 0]\n",
    "    \n",
    "    return obs_seq"
   ]
  },
  {
   "cell_type": "code",
   "execution_count": 9,
   "id": "067904fb",
   "metadata": {},
   "outputs": [
    {
     "data": {
      "text/plain": [
       "Timestamp('2022-06-26 00:00:00')"
      ]
     },
     "execution_count": 9,
     "metadata": {},
     "output_type": "execute_result"
    }
   ],
   "source": [
    "# Testing observation dates\n",
    "obs_seq = observe_sequence_counts(delayed, obs_date=\"2022-06-30\")\n",
    "obs_seq.date.max()"
   ]
  },
  {
   "cell_type": "code",
   "execution_count": 10,
   "id": "9a649033",
   "metadata": {},
   "outputs": [],
   "source": [
    "def make_observation_dates(obs_interval=7):\n",
    "    total_interval = (pd.to_datetime(end_date) - pd.to_datetime(start_date)).days\n",
    "    ndays = np.arange(90 + 14, total_interval, obs_interval).astype(int)\n",
    "    if total_interval not in ndays:\n",
    "        ndays = np.append(ndays, total_interval)\n",
    "\n",
    "    obs_dates = [pd.to_datetime(start_date) + pd.Timedelta(nday, 'd') for nday in ndays]\n",
    "    obs_dates = [date.strftime(\"%Y-%m-%d\") for date in obs_dates]\n",
    "    return obs_dates"
   ]
  },
  {
   "cell_type": "code",
   "execution_count": 11,
   "id": "ac403723",
   "metadata": {},
   "outputs": [
    {
     "data": {
      "text/plain": [
       "['2022-04-15',\n",
       " '2022-04-22',\n",
       " '2022-04-29',\n",
       " '2022-05-06',\n",
       " '2022-05-13',\n",
       " '2022-05-20',\n",
       " '2022-05-27',\n",
       " '2022-06-03',\n",
       " '2022-06-10',\n",
       " '2022-06-17',\n",
       " '2022-06-24',\n",
       " '2022-06-30']"
      ]
     },
     "execution_count": 11,
     "metadata": {},
     "output_type": "execute_result"
    }
   ],
   "source": [
    "obs_dates = make_observation_dates()\n",
    "obs_dates"
   ]
  },
  {
   "cell_type": "code",
   "execution_count": 12,
   "id": "5c22213a",
   "metadata": {},
   "outputs": [],
   "source": [
    "# \"https://covid.ourworldindata.org/data/owid-covid-data.csv\"\n",
    "raw_cases = pd.read_csv(\"https://covid.ourworldindata.org/data/owid-covid-data.csv\")\n",
    "raw_cases[\"location\"].replace({\"United States\": \"USA\"}, inplace=True) #Map United States to USA\n",
    "raw_cases = raw_cases[raw_cases.location.isin(locations)]\n",
    "raw_cases = (raw_cases[[\"date\", \"location\", \"new_cases\"]]\n",
    "             .rename(columns={\"new_cases\": \"cases\"}))\n",
    "raw_cases['cases'] = raw_cases['cases'].fillna(0)"
   ]
  },
  {
   "cell_type": "code",
   "execution_count": 14,
   "id": "5d78a9eb",
   "metadata": {},
   "outputs": [],
   "source": [
    "import os\n",
    "\n",
    "# Now we just loop over observation dates\n",
    "for date in obs_dates:\n",
    "    \n",
    "    # Observe sequences up to this date\n",
    "    obs_seq = observe_sequence_counts(delayed, obs_date=date)\n",
    "    \n",
    "    # Filter to most recent 104 days\n",
    "    min_date = (pd.to_datetime(date) - pd.Timedelta(90 + 14,'d'))\n",
    "    obs_seq = obs_seq[obs_seq.date > min_date]\n",
    "    \n",
    "    # Remove most recent 14 days due to bias\n",
    "    max_date = (pd.to_datetime(date) - pd.Timedelta(14,'d'))\n",
    "    obs_seq = obs_seq[obs_seq.date <= max_date]\n",
    "\n",
    "    # Add cases up to present \n",
    "    obs_cases = raw_cases[raw_cases.date <= date]\n",
    "    obs_cases = obs_cases[pd.to_datetime(obs_cases.date) > min_date]\n",
    "\n",
    "    \n",
    "    # Export file\n",
    "    path = \"../data/time_stamped/\" + date\n",
    "    if not os.path.exists(path):\n",
    "        os.makedirs(path)\n",
    "        \n",
    "    # Make sure we have the folder\n",
    "    obs_seq.to_csv(f\"{path}/seq_counts_{date}.tsv\", sep=\"\\t\", index = False)\n",
    "    obs_cases.to_csv(f\"{path}/case_counts_{date}.tsv\", sep=\"\\t\", index = False)"
   ]
  },
  {
   "cell_type": "code",
   "execution_count": 15,
   "id": "b57a466c",
   "metadata": {},
   "outputs": [],
   "source": [
    "# Get final truth sets\n",
    "obs_seq = observe_sequence_counts(delayed, obs_date=None)\n",
    "obs_cases = raw_cases\n",
    "\n",
    "# Make sure we have the folder\n",
    "path = \"../data/time_stamped/truth\"\n",
    "if not os.path.exists(path):\n",
    "        os.makedirs(path)\n",
    "        \n",
    "obs_seq.to_csv(f\"{path}/seq_counts_truth.tsv\", sep=\"\\t\", index = False)\n",
    "obs_cases.to_csv(f\"{path}/case_counts_truth.tsv\", sep=\"\\t\", index = False)"
   ]
  }
 ],
 "metadata": {
  "kernelspec": {
   "display_name": "Python 3 (ipykernel)",
   "language": "python",
   "name": "python3"
  },
  "language_info": {
   "codemirror_mode": {
    "name": "ipython",
    "version": 3
   },
   "file_extension": ".py",
   "mimetype": "text/x-python",
   "name": "python",
   "nbconvert_exporter": "python",
   "pygments_lexer": "ipython3",
   "version": "3.10.4"
  }
 },
 "nbformat": 4,
 "nbformat_minor": 5
}
