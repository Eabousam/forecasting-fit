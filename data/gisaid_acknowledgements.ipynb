{
 "cells": [
  {
   "cell_type": "code",
   "execution_count": 1,
   "id": "83b92252",
   "metadata": {},
   "outputs": [],
   "source": [
    "import pandas as pd\n",
    "import numpy as np"
   ]
  },
  {
   "cell_type": "markdown",
   "id": "aaf0c06d",
   "metadata": {},
   "source": [
    "## Exporting acknowledgements for sequences used in analysis\n",
    "\n",
    "The `giasaid_metadata_pruned.tsv` is generated from the Nextstrain-curated GISAID metadata. Details for this can be found in `../data/README.md`."
   ]
  },
  {
   "cell_type": "code",
   "execution_count": 2,
   "id": "e96f43de",
   "metadata": {},
   "outputs": [],
   "source": [
    "# https://data.nextstrain.org/files/ncov/open/metadata.tsv.gz\n",
    "raw_metadata_reader = pd.read_csv(\n",
    "    \"../data/gisaid_metadata.tsv\", \n",
    "    sep=\"\\t\",\n",
    "    usecols=(\n",
    "        \"strain\",\n",
    "        \"date\",\n",
    "        \"date_submitted\",\n",
    "        \"country\",\n",
    "        \"division\",\n",
    "        \"Nextstrain_clade\",\n",
    "        \"authors\",\n",
    "        \"genbank_accession\",\n",
    "        \"gisaid_epi_isl\",\n",
    "        \"originating_lab\",\n",
    "        \"submitting_lab\"\n",
    "        ),\n",
    "    dtype={\n",
    "        \"country\": \"category\",\n",
    "        \"division\": \"category\",\n",
    "        \"Nextstrain_clade\": \"category\",\n",
    "        },\n",
    "    chunksize=100000)"
   ]
  },
  {
   "cell_type": "code",
   "execution_count": 3,
   "id": "e6ed3304",
   "metadata": {},
   "outputs": [],
   "source": [
    "# Countries of interest\n",
    "locations = [\"USA\", \"Japan\", \"United Kingdom\", \"Australia\", \"Brazil\", \"South Africa\", \"Denmark\", \"Germany\"]\n",
    "start_date = \"2021-09-01\"\n",
    "end_date = \"2022-12-31\"\n",
    "end_forecast_period = \"2023-01-31\"\n",
    "\n",
    "# Borrowing from John here\n",
    "def clean_metadata(metadata):\n",
    "    # Filter to countries\n",
    "    metadata = metadata[metadata[\"country\"].isin(locations)]\n",
    "    \n",
    "    # Remove ambigious dates\n",
    "    unambiguous_dates = (metadata[\"date\"] != \"?\") & (metadata[\"date\"].str.count(\"-\") == 2)\n",
    "    unambiguous_dates = unambiguous_dates & ~(metadata[\"date\"].str.contains(\"X\", na=True))\n",
    "    metadata = metadata[unambiguous_dates].copy()\n",
    "    \n",
    "    # Filter to date range\n",
    "    metadata[\"date\"] = pd.to_datetime(metadata[\"date\"])\n",
    "    metadata[\"date_submitted\"] = pd.to_datetime(metadata[\"date_submitted\"])\n",
    "\n",
    "    date_since_start_date = (metadata[\"date\"] >= start_date)\n",
    "    date_before_end_date = (metadata[\"date\"] <= end_forecast_period)\n",
    "    metadata = metadata[(date_since_start_date) & (date_before_end_date)].copy()\n",
    "        \n",
    "    # Filter records without NS clade\n",
    "    metadata = metadata[~pd.isnull(metadata[\"Nextstrain_clade\"])].copy()\n",
    "    \n",
    "    # Remove airport strain\n",
    "    metadata = metadata[~(metadata[\"strain\"].str.startswith(\"Japan/IC-\"))]\n",
    "    return metadata"
   ]
  },
  {
   "cell_type": "code",
   "execution_count": 4,
   "id": "5da8d57f",
   "metadata": {},
   "outputs": [],
   "source": [
    "metadata_chunks = [clean_metadata(chunk) for chunk in raw_metadata_reader]"
   ]
  },
  {
   "cell_type": "code",
   "execution_count": 5,
   "id": "3f558b14",
   "metadata": {},
   "outputs": [],
   "source": [
    "metadata = pd.concat(metadata_chunks, ignore_index=True)"
   ]
  },
  {
   "cell_type": "code",
   "execution_count": 6,
   "id": "5e1d9804",
   "metadata": {},
   "outputs": [],
   "source": [
    "# Generate acknowledgments\n",
    "acknowledgment_cols = [\"strain\", \"gisaid_epi_isl\", \"genbank_accession\", \"authors\", \"originating_lab\", \"submitting_lab\"]\n",
    "acknowledgements = metadata[acknowledgment_cols]"
   ]
  },
  {
   "cell_type": "code",
   "execution_count": 7,
   "id": "56486b91",
   "metadata": {},
   "outputs": [],
   "source": [
    "acknowledgements.to_csv(\"./final_acknowledgements_gisaid.tsv.gz\", sep=\"\\t\", compression='gzip', index=False)"
   ]
  }
 ],
 "metadata": {
  "kernelspec": {
   "display_name": "Python 3 (ipykernel)",
   "language": "python",
   "name": "python3"
  },
  "language_info": {
   "codemirror_mode": {
    "name": "ipython",
    "version": 3
   },
   "file_extension": ".py",
   "mimetype": "text/x-python",
   "name": "python",
   "nbconvert_exporter": "python",
   "pygments_lexer": "ipython3",
   "version": "3.11.4"
  }
 },
 "nbformat": 4,
 "nbformat_minor": 5
}
