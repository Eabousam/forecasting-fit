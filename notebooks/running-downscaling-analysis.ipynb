{
 "cells": [
  {
   "cell_type": "code",
   "execution_count": 1,
   "id": "7cef3463",
   "metadata": {},
   "outputs": [
    {
     "name": "stderr",
     "output_type": "stream",
     "text": [
      "/Users/marlinfiggins/miniconda3/lib/python3.11/site-packages/tqdm/auto.py:21: TqdmWarning: IProgress not found. Please update jupyter and ipywidgets. See https://ipywidgets.readthedocs.io/en/stable/user_install.html\n",
      "  from .autonotebook import tqdm as notebook_tqdm\n"
     ]
    }
   ],
   "source": [
    "import evofr as ef\n",
    "import os\n",
    "import pandas as pd\n",
    "\n",
    "from jax import vmap\n",
    "import jax.numpy as jnp\n",
    "from jax.nn import softmax"
   ]
  },
  {
   "cell_type": "code",
   "execution_count": 2,
   "id": "1d85acd6",
   "metadata": {},
   "outputs": [],
   "source": [
    "OBS_DATES = ['2022-01-01', '2022-02-01','2022-03-01',\n",
    "         '2022-04-01','2022-05-01','2022-06-01',\n",
    "         '2022-07-01','2022-08-01','2022-09-01',\n",
    "         '2022-10-01','2022-11-01','2022-12-01']\n",
    "LOCATIONS = [\"United Kingdom\", \"Denmark\", \"Monaco\"]\n",
    "PS = [.5]"
   ]
  },
  {
   "cell_type": "code",
   "execution_count": 3,
   "id": "638769ac",
   "metadata": {},
   "outputs": [],
   "source": [
    "MODELS = {'MLR': ef.MultinomialLogisticRegression(tau=4.2)}\n",
    "inference_method = ef.InferMAP(iters=30_000, lr=4e-2)"
   ]
  },
  {
   "cell_type": "code",
   "execution_count": 4,
   "id": "9ca7a576",
   "metadata": {},
   "outputs": [],
   "source": [
    "# Helper functions for forecasting and saving MLR\n",
    "def forecast_frequencies(samples, forecast_L):\n",
    "    \"\"\"\n",
    "    Use posterior beta to forecast posterior frequenicies.\n",
    "    \"\"\"\n",
    "    \n",
    "    # Making feature matrix for forecasting\n",
    "    last_T = samples[\"freq\"].shape[1]\n",
    "    \n",
    "    X = MODELS[\"MLR\"].make_ols_feature(start=last_T, stop=last_T + forecast_L)\n",
    "    # Posterior beta\n",
    "    beta = jnp.array(samples[\"beta\"])\n",
    "    \n",
    "    # Matrix multiplication by sample\n",
    "    dot_by_sample = vmap(jnp.dot, in_axes=(None, 0), out_axes=0)\n",
    "    logits = dot_by_sample(X, beta) # Logit frequencies by variant\n",
    "    return softmax(logits, axis=-1)\n",
    "\n",
    "def forecast_from_obs_date(posterior, obs_date, days_from_obs):\n",
    "    # Compute obs_date + days_from_obs\n",
    "    n_days_to_present = (pd.to_datetime(obs_date) - posterior.data.dates[-1]).days\n",
    "    n_days_to_forecast = n_days_to_present + days_from_obs\n",
    "\n",
    "    # Forecast\n",
    "    posterior.samples[\"freq_forecast\"] = forecast_frequencies(posterior.samples, n_days_to_forecast)\n",
    "    return None\n",
    "\n",
    "def save_mlr_freq(samples, variant_data, ps, obs_date, thres, name, filepath):\n",
    "    \n",
    "    freq_now = pd.DataFrame(ef.get_freq(samples, variant_data, ps, name=name, forecast = False))\n",
    "    nowcast_dates = variant_data.dates[-60:]\n",
    "    \n",
    "    freq_now = freq_now[freq_now['date'].isin(nowcast_dates)]\n",
    "    freq_fr = pd.DataFrame(ef.get_freq(samples, variant_data, ps, name=name, forecast = True))\n",
    "    \n",
    "    freq_merged = pd.concat([freq_now, freq_fr])\n",
    "    freq_merged = freq_merged.rename(\n",
    "        columns = {'median_freq':'median_freq_nowcast','freq_upper_95':'freq_nowcast_upper_95'}, \n",
    "        inplace = False)\n",
    "\n",
    "    freq_merged.to_csv(f'{filepath}/frequencies_{obs_date}_{thres}.tsv', index = False, sep=\"\\t\")\n",
    "    return None"
   ]
  },
  {
   "cell_type": "code",
   "execution_count": 5,
   "id": "7593cc43",
   "metadata": {},
   "outputs": [
    {
     "name": "stderr",
     "output_type": "stream",
     "text": [
      "/Users/marlinfiggins/miniconda3/lib/python3.11/site-packages/evofr/data/data_helpers.py:89: UserWarning: Omicron 21L not present in variant names. Using provided order.\n",
      "  warnings.warn(\n",
      "/Users/marlinfiggins/miniconda3/lib/python3.11/site-packages/evofr/data/data_helpers.py:89: UserWarning: Omicron 21L not present in variant names. Using provided order.\n",
      "  warnings.warn(\n",
      "/Users/marlinfiggins/miniconda3/lib/python3.11/site-packages/evofr/data/data_helpers.py:89: UserWarning: Omicron 21L not present in variant names. Using provided order.\n",
      "  warnings.warn(\n",
      "/Users/marlinfiggins/miniconda3/lib/python3.11/site-packages/evofr/data/data_helpers.py:89: UserWarning: Omicron 21L not present in variant names. Using provided order.\n",
      "  warnings.warn(\n",
      "/Users/marlinfiggins/miniconda3/lib/python3.11/site-packages/evofr/data/data_helpers.py:89: UserWarning: Omicron 21L not present in variant names. Using provided order.\n",
      "  warnings.warn(\n",
      "/Users/marlinfiggins/miniconda3/lib/python3.11/site-packages/evofr/data/data_helpers.py:89: UserWarning: Omicron 21L not present in variant names. Using provided order.\n",
      "  warnings.warn(\n",
      "/Users/marlinfiggins/miniconda3/lib/python3.11/site-packages/evofr/data/data_helpers.py:89: UserWarning: Omicron 21L not present in variant names. Using provided order.\n",
      "  warnings.warn(\n",
      "/Users/marlinfiggins/miniconda3/lib/python3.11/site-packages/evofr/data/data_helpers.py:89: UserWarning: Omicron 21L not present in variant names. Using provided order.\n",
      "  warnings.warn(\n",
      "/Users/marlinfiggins/miniconda3/lib/python3.11/site-packages/evofr/data/data_helpers.py:89: UserWarning: Omicron 21L not present in variant names. Using provided order.\n",
      "  warnings.warn(\n",
      "/Users/marlinfiggins/miniconda3/lib/python3.11/site-packages/evofr/data/data_helpers.py:89: UserWarning: Omicron 21L not present in variant names. Using provided order.\n",
      "  warnings.warn(\n",
      "/Users/marlinfiggins/miniconda3/lib/python3.11/site-packages/evofr/data/data_helpers.py:89: UserWarning: Omicron 21L not present in variant names. Using provided order.\n",
      "  warnings.warn(\n",
      "/Users/marlinfiggins/miniconda3/lib/python3.11/site-packages/evofr/data/data_helpers.py:89: UserWarning: Omicron 21L not present in variant names. Using provided order.\n",
      "  warnings.warn(\n",
      "/Users/marlinfiggins/miniconda3/lib/python3.11/site-packages/evofr/data/data_helpers.py:89: UserWarning: Omicron 21L not present in variant names. Using provided order.\n",
      "  warnings.warn(\n"
     ]
    },
    {
     "ename": "TypeError",
     "evalue": "reshape new_sizes must all be positive, got (2, 0, -1).",
     "output_type": "error",
     "traceback": [
      "\u001b[0;31m---------------------------------------------------------------------------\u001b[0m",
      "\u001b[0;31mTypeError\u001b[0m                                 Traceback (most recent call last)",
      "Cell \u001b[0;32mIn[5], line 29\u001b[0m\n\u001b[1;32m     26\u001b[0m     \u001b[38;5;28;01mreturn\u001b[39;00m \u001b[38;5;28;01mNone\u001b[39;00m\n\u001b[1;32m     28\u001b[0m \u001b[38;5;28;01mfor\u001b[39;00m location \u001b[38;5;129;01min\u001b[39;00m LOCATIONS:\n\u001b[0;32m---> 29\u001b[0m     model_run(\u001b[38;5;124m\"\u001b[39m\u001b[38;5;124mMLR\u001b[39m\u001b[38;5;124m\"\u001b[39m,  location)\n",
      "Cell \u001b[0;32mIn[5], line 19\u001b[0m, in \u001b[0;36mmodel_run\u001b[0;34m(model, location)\u001b[0m\n\u001b[1;32m     17\u001b[0m \u001b[38;5;66;03m# Defining data for model run\u001b[39;00m\n\u001b[1;32m     18\u001b[0m variant_data \u001b[38;5;241m=\u001b[39m ef\u001b[38;5;241m.\u001b[39mVariantFrequencies(raw_seq_thres, pivot\u001b[38;5;241m=\u001b[39m\u001b[38;5;124m\"\u001b[39m\u001b[38;5;124mOmicron 21L\u001b[39m\u001b[38;5;124m\"\u001b[39m)\n\u001b[0;32m---> 19\u001b[0m posterior \u001b[38;5;241m=\u001b[39m inference_method\u001b[38;5;241m.\u001b[39mfit(MODELS[model], variant_data)\n\u001b[1;32m     21\u001b[0m \u001b[38;5;66;03m# Forecast past observation date\u001b[39;00m\n\u001b[1;32m     22\u001b[0m forecast_from_obs_date(posterior, date, \u001b[38;5;241m30\u001b[39m)\n",
      "File \u001b[0;32m~/miniconda3/lib/python3.11/site-packages/evofr/infer/InferSVI.py:77\u001b[0m, in \u001b[0;36mInferSVI.fit\u001b[0;34m(self, model, data, name)\u001b[0m\n\u001b[1;32m     74\u001b[0m guide \u001b[38;5;241m=\u001b[39m \u001b[38;5;28mself\u001b[39m\u001b[38;5;241m.\u001b[39mguide_fn(model\u001b[38;5;241m.\u001b[39mmodel_fn)\n\u001b[1;32m     76\u001b[0m \u001b[38;5;66;03m# Fit model and retrieve samples\u001b[39;00m\n\u001b[0;32m---> 77\u001b[0m \u001b[38;5;28mself\u001b[39m\u001b[38;5;241m.\u001b[39mhandler\u001b[38;5;241m.\u001b[39mfit(model\u001b[38;5;241m.\u001b[39mmodel_fn, guide, \u001b[38;5;28minput\u001b[39m, \u001b[38;5;28mself\u001b[39m\u001b[38;5;241m.\u001b[39miters)\n\u001b[1;32m     78\u001b[0m samples \u001b[38;5;241m=\u001b[39m \u001b[38;5;28mself\u001b[39m\u001b[38;5;241m.\u001b[39mhandler\u001b[38;5;241m.\u001b[39mpredict(\n\u001b[1;32m     79\u001b[0m     model\u001b[38;5;241m.\u001b[39mmodel_fn, guide, \u001b[38;5;28minput\u001b[39m, num_samples\u001b[38;5;241m=\u001b[39m\u001b[38;5;28mself\u001b[39m\u001b[38;5;241m.\u001b[39mnum_samples\n\u001b[1;32m     80\u001b[0m )\n\u001b[1;32m     81\u001b[0m samples[\u001b[38;5;124m\"\u001b[39m\u001b[38;5;124mlosses\u001b[39m\u001b[38;5;124m\"\u001b[39m] \u001b[38;5;241m=\u001b[39m \u001b[38;5;28mself\u001b[39m\u001b[38;5;241m.\u001b[39mhandler\u001b[38;5;241m.\u001b[39mlosses\n",
      "File \u001b[0;32m~/miniconda3/lib/python3.11/site-packages/evofr/infer/SVI_handler.py:52\u001b[0m, in \u001b[0;36mSVIHandler.fit\u001b[0;34m(self, model, guide, data, n_epochs)\u001b[0m\n\u001b[1;32m     48\u001b[0m \u001b[38;5;28;01mdef\u001b[39;00m \u001b[38;5;21mfit\u001b[39m(\n\u001b[1;32m     49\u001b[0m     \u001b[38;5;28mself\u001b[39m, model: Callable, guide: AutoGuide, data: \u001b[38;5;28mdict\u001b[39m, n_epochs: \u001b[38;5;28mint\u001b[39m\n\u001b[1;32m     50\u001b[0m ):\n\u001b[1;32m     51\u001b[0m     \u001b[38;5;28mself\u001b[39m\u001b[38;5;241m.\u001b[39minit_svi(model, guide, data)\n\u001b[0;32m---> 52\u001b[0m     \u001b[38;5;28mself\u001b[39m\u001b[38;5;241m.\u001b[39msvi_result \u001b[38;5;241m=\u001b[39m \u001b[38;5;28mself\u001b[39m\u001b[38;5;241m.\u001b[39msvi\u001b[38;5;241m.\u001b[39mrun(\n\u001b[1;32m     53\u001b[0m         \u001b[38;5;28mself\u001b[39m\u001b[38;5;241m.\u001b[39mrng_key,\n\u001b[1;32m     54\u001b[0m         n_epochs,\n\u001b[1;32m     55\u001b[0m         \u001b[38;5;241m*\u001b[39m\u001b[38;5;241m*\u001b[39mdata,\n\u001b[1;32m     56\u001b[0m         progress_bar\u001b[38;5;241m=\u001b[39m\u001b[38;5;28;01mFalse\u001b[39;00m,\n\u001b[1;32m     57\u001b[0m         stable_update\u001b[38;5;241m=\u001b[39m\u001b[38;5;28;01mTrue\u001b[39;00m\n\u001b[1;32m     58\u001b[0m     )\n\u001b[1;32m     59\u001b[0m     \u001b[38;5;28mself\u001b[39m\u001b[38;5;241m.\u001b[39msvi_state \u001b[38;5;241m=\u001b[39m \u001b[38;5;28mself\u001b[39m\u001b[38;5;241m.\u001b[39msvi_result\u001b[38;5;241m.\u001b[39mstate\n",
      "File \u001b[0;32m~/miniconda3/lib/python3.11/site-packages/numpyro/infer/svi.py:391\u001b[0m, in \u001b[0;36mSVI.run\u001b[0;34m(self, rng_key, num_steps, progress_bar, stable_update, init_state, init_params, *args, **kwargs)\u001b[0m\n\u001b[1;32m    389\u001b[0m     losses \u001b[38;5;241m=\u001b[39m jnp\u001b[38;5;241m.\u001b[39mstack(losses)\n\u001b[1;32m    390\u001b[0m \u001b[38;5;28;01melse\u001b[39;00m:\n\u001b[0;32m--> 391\u001b[0m     svi_state, losses \u001b[38;5;241m=\u001b[39m lax\u001b[38;5;241m.\u001b[39mscan(body_fn, svi_state, \u001b[38;5;28;01mNone\u001b[39;00m, length\u001b[38;5;241m=\u001b[39mnum_steps)\n\u001b[1;32m    393\u001b[0m \u001b[38;5;66;03m# XXX: we also return the last svi_state for further inspection of both\u001b[39;00m\n\u001b[1;32m    394\u001b[0m \u001b[38;5;66;03m# optimizer's state and mutable state.\u001b[39;00m\n\u001b[1;32m    395\u001b[0m \u001b[38;5;28;01mreturn\u001b[39;00m SVIRunResult(\u001b[38;5;28mself\u001b[39m\u001b[38;5;241m.\u001b[39mget_params(svi_state), svi_state, losses)\n",
      "    \u001b[0;31m[... skipping hidden 9 frame]\u001b[0m\n",
      "File \u001b[0;32m~/miniconda3/lib/python3.11/site-packages/numpyro/infer/svi.py:357\u001b[0m, in \u001b[0;36mSVI.run.<locals>.body_fn\u001b[0;34m(svi_state, _)\u001b[0m\n\u001b[1;32m    355\u001b[0m \u001b[38;5;28;01mdef\u001b[39;00m \u001b[38;5;21mbody_fn\u001b[39m(svi_state, _):\n\u001b[1;32m    356\u001b[0m     \u001b[38;5;28;01mif\u001b[39;00m stable_update:\n\u001b[0;32m--> 357\u001b[0m         svi_state, loss \u001b[38;5;241m=\u001b[39m \u001b[38;5;28mself\u001b[39m\u001b[38;5;241m.\u001b[39mstable_update(svi_state, \u001b[38;5;241m*\u001b[39margs, \u001b[38;5;241m*\u001b[39m\u001b[38;5;241m*\u001b[39mkwargs)\n\u001b[1;32m    358\u001b[0m     \u001b[38;5;28;01melse\u001b[39;00m:\n\u001b[1;32m    359\u001b[0m         svi_state, loss \u001b[38;5;241m=\u001b[39m \u001b[38;5;28mself\u001b[39m\u001b[38;5;241m.\u001b[39mupdate(svi_state, \u001b[38;5;241m*\u001b[39margs, \u001b[38;5;241m*\u001b[39m\u001b[38;5;241m*\u001b[39mkwargs)\n",
      "File \u001b[0;32m~/miniconda3/lib/python3.11/site-packages/numpyro/infer/svi.py:301\u001b[0m, in \u001b[0;36mSVI.stable_update\u001b[0;34m(self, svi_state, *args, **kwargs)\u001b[0m\n\u001b[1;32m    289\u001b[0m rng_key, rng_key_step \u001b[38;5;241m=\u001b[39m random\u001b[38;5;241m.\u001b[39msplit(svi_state\u001b[38;5;241m.\u001b[39mrng_key)\n\u001b[1;32m    290\u001b[0m loss_fn \u001b[38;5;241m=\u001b[39m _make_loss_fn(\n\u001b[1;32m    291\u001b[0m     \u001b[38;5;28mself\u001b[39m\u001b[38;5;241m.\u001b[39mloss,\n\u001b[1;32m    292\u001b[0m     rng_key_step,\n\u001b[0;32m   (...)\u001b[0m\n\u001b[1;32m    299\u001b[0m     mutable_state\u001b[38;5;241m=\u001b[39msvi_state\u001b[38;5;241m.\u001b[39mmutable_state,\n\u001b[1;32m    300\u001b[0m )\n\u001b[0;32m--> 301\u001b[0m (loss_val, mutable_state), optim_state \u001b[38;5;241m=\u001b[39m \u001b[38;5;28mself\u001b[39m\u001b[38;5;241m.\u001b[39moptim\u001b[38;5;241m.\u001b[39meval_and_stable_update(\n\u001b[1;32m    302\u001b[0m     loss_fn, svi_state\u001b[38;5;241m.\u001b[39moptim_state\n\u001b[1;32m    303\u001b[0m )\n\u001b[1;32m    304\u001b[0m \u001b[38;5;28;01mreturn\u001b[39;00m SVIState(optim_state, mutable_state, rng_key), loss_val\n",
      "File \u001b[0;32m~/miniconda3/lib/python3.11/site-packages/numpyro/optim.py:101\u001b[0m, in \u001b[0;36m_NumPyroOptim.eval_and_stable_update\u001b[0;34m(self, fn, state)\u001b[0m\n\u001b[1;32m     91\u001b[0m \u001b[38;5;250m\u001b[39m\u001b[38;5;124;03m\"\"\"\u001b[39;00m\n\u001b[1;32m     92\u001b[0m \u001b[38;5;124;03mLike :meth:`eval_and_update` but when the value of the objective function\u001b[39;00m\n\u001b[1;32m     93\u001b[0m \u001b[38;5;124;03mor the gradients are not finite, we will not update the input `state`\u001b[39;00m\n\u001b[0;32m   (...)\u001b[0m\n\u001b[1;32m     98\u001b[0m \u001b[38;5;124;03m:return: a pair of the output of objective function and the new optimizer state.\u001b[39;00m\n\u001b[1;32m     99\u001b[0m \u001b[38;5;124;03m\"\"\"\u001b[39;00m\n\u001b[1;32m    100\u001b[0m params \u001b[38;5;241m=\u001b[39m \u001b[38;5;28mself\u001b[39m\u001b[38;5;241m.\u001b[39mget_params(state)\n\u001b[0;32m--> 101\u001b[0m (out, aux), grads \u001b[38;5;241m=\u001b[39m value_and_grad(fn, has_aux\u001b[38;5;241m=\u001b[39m\u001b[38;5;28;01mTrue\u001b[39;00m)(params)\n\u001b[1;32m    102\u001b[0m out, state \u001b[38;5;241m=\u001b[39m lax\u001b[38;5;241m.\u001b[39mcond(\n\u001b[1;32m    103\u001b[0m     jnp\u001b[38;5;241m.\u001b[39misfinite(out) \u001b[38;5;241m&\u001b[39m jnp\u001b[38;5;241m.\u001b[39misfinite(ravel_pytree(grads)[\u001b[38;5;241m0\u001b[39m])\u001b[38;5;241m.\u001b[39mall(),\n\u001b[1;32m    104\u001b[0m     \u001b[38;5;28;01mlambda\u001b[39;00m _: (out, \u001b[38;5;28mself\u001b[39m\u001b[38;5;241m.\u001b[39mupdate(grads, state)),\n\u001b[1;32m    105\u001b[0m     \u001b[38;5;28;01mlambda\u001b[39;00m _: (jnp\u001b[38;5;241m.\u001b[39mnan, state),\n\u001b[1;32m    106\u001b[0m     \u001b[38;5;28;01mNone\u001b[39;00m,\n\u001b[1;32m    107\u001b[0m )\n\u001b[1;32m    108\u001b[0m \u001b[38;5;28;01mreturn\u001b[39;00m (out, aux), state\n",
      "    \u001b[0;31m[... skipping hidden 8 frame]\u001b[0m\n",
      "File \u001b[0;32m~/miniconda3/lib/python3.11/site-packages/numpyro/infer/svi.py:67\u001b[0m, in \u001b[0;36m_make_loss_fn.<locals>.loss_fn\u001b[0;34m(params)\u001b[0m\n\u001b[1;32m     64\u001b[0m     \u001b[38;5;28;01mreturn\u001b[39;00m result[\u001b[38;5;124m\"\u001b[39m\u001b[38;5;124mloss\u001b[39m\u001b[38;5;124m\"\u001b[39m], result[\u001b[38;5;124m\"\u001b[39m\u001b[38;5;124mmutable_state\u001b[39m\u001b[38;5;124m\"\u001b[39m]\n\u001b[1;32m     65\u001b[0m \u001b[38;5;28;01melse\u001b[39;00m:\n\u001b[1;32m     66\u001b[0m     \u001b[38;5;28;01mreturn\u001b[39;00m (\n\u001b[0;32m---> 67\u001b[0m         elbo\u001b[38;5;241m.\u001b[39mloss(\n\u001b[1;32m     68\u001b[0m             rng_key, params, model, guide, \u001b[38;5;241m*\u001b[39margs, \u001b[38;5;241m*\u001b[39m\u001b[38;5;241m*\u001b[39mkwargs, \u001b[38;5;241m*\u001b[39m\u001b[38;5;241m*\u001b[39mstatic_kwargs\n\u001b[1;32m     69\u001b[0m         ),\n\u001b[1;32m     70\u001b[0m         \u001b[38;5;28;01mNone\u001b[39;00m,\n\u001b[1;32m     71\u001b[0m     )\n",
      "File \u001b[0;32m~/miniconda3/lib/python3.11/site-packages/numpyro/infer/elbo.py:63\u001b[0m, in \u001b[0;36mELBO.loss\u001b[0;34m(self, rng_key, param_map, model, guide, *args, **kwargs)\u001b[0m\n\u001b[1;32m     48\u001b[0m \u001b[38;5;28;01mdef\u001b[39;00m \u001b[38;5;21mloss\u001b[39m(\u001b[38;5;28mself\u001b[39m, rng_key, param_map, model, guide, \u001b[38;5;241m*\u001b[39margs, \u001b[38;5;241m*\u001b[39m\u001b[38;5;241m*\u001b[39mkwargs):\n\u001b[1;32m     49\u001b[0m \u001b[38;5;250m    \u001b[39m\u001b[38;5;124;03m\"\"\"\u001b[39;00m\n\u001b[1;32m     50\u001b[0m \u001b[38;5;124;03m    Evaluates the ELBO with an estimator that uses num_particles many samples/particles.\u001b[39;00m\n\u001b[1;32m     51\u001b[0m \n\u001b[0;32m   (...)\u001b[0m\n\u001b[1;32m     61\u001b[0m \u001b[38;5;124;03m    :return: negative of the Evidence Lower Bound (ELBO) to be minimized.\u001b[39;00m\n\u001b[1;32m     62\u001b[0m \u001b[38;5;124;03m    \"\"\"\u001b[39;00m\n\u001b[0;32m---> 63\u001b[0m     \u001b[38;5;28;01mreturn\u001b[39;00m \u001b[38;5;28mself\u001b[39m\u001b[38;5;241m.\u001b[39mloss_with_mutable_state(\n\u001b[1;32m     64\u001b[0m         rng_key, param_map, model, guide, \u001b[38;5;241m*\u001b[39margs, \u001b[38;5;241m*\u001b[39m\u001b[38;5;241m*\u001b[39mkwargs\n\u001b[1;32m     65\u001b[0m     )[\u001b[38;5;124m\"\u001b[39m\u001b[38;5;124mloss\u001b[39m\u001b[38;5;124m\"\u001b[39m]\n",
      "File \u001b[0;32m~/miniconda3/lib/python3.11/site-packages/numpyro/infer/elbo.py:166\u001b[0m, in \u001b[0;36mTrace_ELBO.loss_with_mutable_state\u001b[0;34m(self, rng_key, param_map, model, guide, *args, **kwargs)\u001b[0m\n\u001b[1;32m    164\u001b[0m \u001b[38;5;28;01melse\u001b[39;00m:\n\u001b[1;32m    165\u001b[0m     rng_keys \u001b[38;5;241m=\u001b[39m random\u001b[38;5;241m.\u001b[39msplit(rng_key, \u001b[38;5;28mself\u001b[39m\u001b[38;5;241m.\u001b[39mnum_particles)\n\u001b[0;32m--> 166\u001b[0m     elbos, mutable_state \u001b[38;5;241m=\u001b[39m vmap(single_particle_elbo)(rng_keys)\n\u001b[1;32m    167\u001b[0m     \u001b[38;5;28;01mreturn\u001b[39;00m {\u001b[38;5;124m\"\u001b[39m\u001b[38;5;124mloss\u001b[39m\u001b[38;5;124m\"\u001b[39m: \u001b[38;5;241m-\u001b[39mjnp\u001b[38;5;241m.\u001b[39mmean(elbos), \u001b[38;5;124m\"\u001b[39m\u001b[38;5;124mmutable_state\u001b[39m\u001b[38;5;124m\"\u001b[39m: mutable_state}\n",
      "    \u001b[0;31m[... skipping hidden 3 frame]\u001b[0m\n",
      "File \u001b[0;32m~/miniconda3/lib/python3.11/site-packages/numpyro/infer/elbo.py:124\u001b[0m, in \u001b[0;36mTrace_ELBO.loss_with_mutable_state.<locals>.single_particle_elbo\u001b[0;34m(rng_key)\u001b[0m\n\u001b[1;32m    122\u001b[0m seeded_model \u001b[38;5;241m=\u001b[39m seed(model, model_seed)\n\u001b[1;32m    123\u001b[0m seeded_guide \u001b[38;5;241m=\u001b[39m seed(guide, guide_seed)\n\u001b[0;32m--> 124\u001b[0m guide_log_density, guide_trace \u001b[38;5;241m=\u001b[39m log_density(\n\u001b[1;32m    125\u001b[0m     seeded_guide, args, kwargs, param_map\n\u001b[1;32m    126\u001b[0m )\n\u001b[1;32m    127\u001b[0m mutable_params \u001b[38;5;241m=\u001b[39m {\n\u001b[1;32m    128\u001b[0m     name: site[\u001b[38;5;124m\"\u001b[39m\u001b[38;5;124mvalue\u001b[39m\u001b[38;5;124m\"\u001b[39m]\n\u001b[1;32m    129\u001b[0m     \u001b[38;5;28;01mfor\u001b[39;00m name, site \u001b[38;5;129;01min\u001b[39;00m guide_trace\u001b[38;5;241m.\u001b[39mitems()\n\u001b[1;32m    130\u001b[0m     \u001b[38;5;28;01mif\u001b[39;00m site[\u001b[38;5;124m\"\u001b[39m\u001b[38;5;124mtype\u001b[39m\u001b[38;5;124m\"\u001b[39m] \u001b[38;5;241m==\u001b[39m \u001b[38;5;124m\"\u001b[39m\u001b[38;5;124mmutable\u001b[39m\u001b[38;5;124m\"\u001b[39m\n\u001b[1;32m    131\u001b[0m }\n\u001b[1;32m    132\u001b[0m params\u001b[38;5;241m.\u001b[39mupdate(mutable_params)\n",
      "File \u001b[0;32m~/miniconda3/lib/python3.11/site-packages/numpyro/infer/util.py:84\u001b[0m, in \u001b[0;36mlog_density\u001b[0;34m(model, model_args, model_kwargs, params)\u001b[0m\n\u001b[1;32m     78\u001b[0m     \u001b[38;5;28;01mexcept\u001b[39;00m \u001b[38;5;167;01mValueError\u001b[39;00m:\n\u001b[1;32m     79\u001b[0m         \u001b[38;5;28;01mraise\u001b[39;00m \u001b[38;5;167;01mValueError\u001b[39;00m(\n\u001b[1;32m     80\u001b[0m             \u001b[38;5;124m\"\u001b[39m\u001b[38;5;124mModel and guide shapes disagree at site: \u001b[39m\u001b[38;5;124m'\u001b[39m\u001b[38;5;132;01m{}\u001b[39;00m\u001b[38;5;124m'\u001b[39m\u001b[38;5;124m: \u001b[39m\u001b[38;5;132;01m{}\u001b[39;00m\u001b[38;5;124m vs \u001b[39m\u001b[38;5;132;01m{}\u001b[39;00m\u001b[38;5;124m\"\u001b[39m\u001b[38;5;241m.\u001b[39mformat(\n\u001b[1;32m     81\u001b[0m                 site[\u001b[38;5;124m\"\u001b[39m\u001b[38;5;124mname\u001b[39m\u001b[38;5;124m\"\u001b[39m], model_shape, guide_shape\n\u001b[1;32m     82\u001b[0m             )\n\u001b[1;32m     83\u001b[0m         )\n\u001b[0;32m---> 84\u001b[0m     log_prob \u001b[38;5;241m=\u001b[39m site[\u001b[38;5;124m\"\u001b[39m\u001b[38;5;124mfn\u001b[39m\u001b[38;5;124m\"\u001b[39m]\u001b[38;5;241m.\u001b[39mlog_prob(value)\n\u001b[1;32m     86\u001b[0m \u001b[38;5;28;01mif\u001b[39;00m (scale \u001b[38;5;129;01mis\u001b[39;00m \u001b[38;5;129;01mnot\u001b[39;00m \u001b[38;5;28;01mNone\u001b[39;00m) \u001b[38;5;129;01mand\u001b[39;00m (\u001b[38;5;129;01mnot\u001b[39;00m is_identically_one(scale)):\n\u001b[1;32m     87\u001b[0m     log_prob \u001b[38;5;241m=\u001b[39m scale \u001b[38;5;241m*\u001b[39m log_prob\n",
      "File \u001b[0;32m~/miniconda3/lib/python3.11/site-packages/numpyro/distributions/util.py:674\u001b[0m, in \u001b[0;36mvalidate_sample.<locals>.wrapper\u001b[0;34m(self, *args, **kwargs)\u001b[0m\n\u001b[1;32m    673\u001b[0m \u001b[38;5;28;01mdef\u001b[39;00m \u001b[38;5;21mwrapper\u001b[39m(\u001b[38;5;28mself\u001b[39m, \u001b[38;5;241m*\u001b[39margs, \u001b[38;5;241m*\u001b[39m\u001b[38;5;241m*\u001b[39mkwargs):\n\u001b[0;32m--> 674\u001b[0m     log_prob \u001b[38;5;241m=\u001b[39m log_prob_fn(\u001b[38;5;28mself\u001b[39m, \u001b[38;5;241m*\u001b[39margs, \u001b[38;5;241m*\u001b[39m\u001b[38;5;241m*\u001b[39mkwargs)\n\u001b[1;32m    675\u001b[0m     \u001b[38;5;28;01mif\u001b[39;00m \u001b[38;5;28mself\u001b[39m\u001b[38;5;241m.\u001b[39m_validate_args:\n\u001b[1;32m    676\u001b[0m         value \u001b[38;5;241m=\u001b[39m kwargs[\u001b[38;5;124m\"\u001b[39m\u001b[38;5;124mvalue\u001b[39m\u001b[38;5;124m\"\u001b[39m] \u001b[38;5;28;01mif\u001b[39;00m \u001b[38;5;124m\"\u001b[39m\u001b[38;5;124mvalue\u001b[39m\u001b[38;5;124m\"\u001b[39m \u001b[38;5;129;01min\u001b[39;00m kwargs \u001b[38;5;28;01melse\u001b[39;00m args[\u001b[38;5;241m0\u001b[39m]\n",
      "File \u001b[0;32m~/miniconda3/lib/python3.11/site-packages/numpyro/distributions/distribution.py:1135\u001b[0m, in \u001b[0;36mDelta.log_prob\u001b[0;34m(self, value)\u001b[0m\n\u001b[1;32m   1132\u001b[0m \u001b[38;5;129m@validate_sample\u001b[39m\n\u001b[1;32m   1133\u001b[0m \u001b[38;5;28;01mdef\u001b[39;00m \u001b[38;5;21mlog_prob\u001b[39m(\u001b[38;5;28mself\u001b[39m, value):\n\u001b[1;32m   1134\u001b[0m     log_prob \u001b[38;5;241m=\u001b[39m jnp\u001b[38;5;241m.\u001b[39mlog(value \u001b[38;5;241m==\u001b[39m \u001b[38;5;28mself\u001b[39m\u001b[38;5;241m.\u001b[39mv)\n\u001b[0;32m-> 1135\u001b[0m     log_prob \u001b[38;5;241m=\u001b[39m sum_rightmost(log_prob, \u001b[38;5;28mlen\u001b[39m(\u001b[38;5;28mself\u001b[39m\u001b[38;5;241m.\u001b[39mevent_shape))\n\u001b[1;32m   1136\u001b[0m     \u001b[38;5;28;01mreturn\u001b[39;00m log_prob \u001b[38;5;241m+\u001b[39m \u001b[38;5;28mself\u001b[39m\u001b[38;5;241m.\u001b[39mlog_density\n",
      "File \u001b[0;32m~/miniconda3/lib/python3.11/site-packages/numpyro/distributions/util.py:319\u001b[0m, in \u001b[0;36msum_rightmost\u001b[0;34m(x, dim)\u001b[0m\n\u001b[1;32m    315\u001b[0m \u001b[38;5;250m\u001b[39m\u001b[38;5;124;03m\"\"\"\u001b[39;00m\n\u001b[1;32m    316\u001b[0m \u001b[38;5;124;03mSum out ``dim`` many rightmost dimensions of a given tensor.\u001b[39;00m\n\u001b[1;32m    317\u001b[0m \u001b[38;5;124;03m\"\"\"\u001b[39;00m\n\u001b[1;32m    318\u001b[0m out_dim \u001b[38;5;241m=\u001b[39m jnp\u001b[38;5;241m.\u001b[39mndim(x) \u001b[38;5;241m-\u001b[39m dim\n\u001b[0;32m--> 319\u001b[0m x \u001b[38;5;241m=\u001b[39m jnp\u001b[38;5;241m.\u001b[39mreshape(jnp\u001b[38;5;241m.\u001b[39mexpand_dims(x, \u001b[38;5;241m-\u001b[39m\u001b[38;5;241m1\u001b[39m), jnp\u001b[38;5;241m.\u001b[39mshape(x)[:out_dim] \u001b[38;5;241m+\u001b[39m (\u001b[38;5;241m-\u001b[39m\u001b[38;5;241m1\u001b[39m,))\n\u001b[1;32m    320\u001b[0m \u001b[38;5;28;01mreturn\u001b[39;00m jnp\u001b[38;5;241m.\u001b[39msum(x, axis\u001b[38;5;241m=\u001b[39m\u001b[38;5;241m-\u001b[39m\u001b[38;5;241m1\u001b[39m)\n",
      "File \u001b[0;32m~/miniconda3/lib/python3.11/site-packages/jax/_src/numpy/lax_numpy.py:791\u001b[0m, in \u001b[0;36mreshape\u001b[0;34m(a, newshape, order)\u001b[0m\n\u001b[1;32m    788\u001b[0m util\u001b[38;5;241m.\u001b[39mcheck_arraylike(\u001b[38;5;124m\"\u001b[39m\u001b[38;5;124mreshape\u001b[39m\u001b[38;5;124m\"\u001b[39m, a)\n\u001b[1;32m    789\u001b[0m \u001b[38;5;28;01mtry\u001b[39;00m:\n\u001b[1;32m    790\u001b[0m   \u001b[38;5;66;03m# forward to method for ndarrays\u001b[39;00m\n\u001b[0;32m--> 791\u001b[0m   \u001b[38;5;28;01mreturn\u001b[39;00m a\u001b[38;5;241m.\u001b[39mreshape(newshape, order\u001b[38;5;241m=\u001b[39morder)  \u001b[38;5;66;03m# type: ignore[call-overload,union-attr]\u001b[39;00m\n\u001b[1;32m    792\u001b[0m \u001b[38;5;28;01mexcept\u001b[39;00m \u001b[38;5;167;01mAttributeError\u001b[39;00m:\n\u001b[1;32m    793\u001b[0m   \u001b[38;5;28;01mreturn\u001b[39;00m asarray(a)\u001b[38;5;241m.\u001b[39mreshape(newshape, order\u001b[38;5;241m=\u001b[39morder)\n",
      "File \u001b[0;32m~/miniconda3/lib/python3.11/site-packages/jax/_src/numpy/array_methods.py:728\u001b[0m, in \u001b[0;36m_forward_method_to_aval.<locals>.meth\u001b[0;34m(self, *args, **kwargs)\u001b[0m\n\u001b[1;32m    727\u001b[0m \u001b[38;5;28;01mdef\u001b[39;00m \u001b[38;5;21mmeth\u001b[39m(\u001b[38;5;28mself\u001b[39m, \u001b[38;5;241m*\u001b[39margs, \u001b[38;5;241m*\u001b[39m\u001b[38;5;241m*\u001b[39mkwargs):\n\u001b[0;32m--> 728\u001b[0m   \u001b[38;5;28;01mreturn\u001b[39;00m \u001b[38;5;28mgetattr\u001b[39m(\u001b[38;5;28mself\u001b[39m\u001b[38;5;241m.\u001b[39maval, name)\u001b[38;5;241m.\u001b[39mfun(\u001b[38;5;28mself\u001b[39m, \u001b[38;5;241m*\u001b[39margs, \u001b[38;5;241m*\u001b[39m\u001b[38;5;241m*\u001b[39mkwargs)\n",
      "File \u001b[0;32m~/miniconda3/lib/python3.11/site-packages/jax/_src/numpy/array_methods.py:143\u001b[0m, in \u001b[0;36m_reshape\u001b[0;34m(a, order, *args)\u001b[0m\n\u001b[1;32m    141\u001b[0m newshape \u001b[38;5;241m=\u001b[39m _compute_newshape(a, args[\u001b[38;5;241m0\u001b[39m] \u001b[38;5;28;01mif\u001b[39;00m \u001b[38;5;28mlen\u001b[39m(args) \u001b[38;5;241m==\u001b[39m \u001b[38;5;241m1\u001b[39m \u001b[38;5;28;01melse\u001b[39;00m args)\n\u001b[1;32m    142\u001b[0m \u001b[38;5;28;01mif\u001b[39;00m order \u001b[38;5;241m==\u001b[39m \u001b[38;5;124m\"\u001b[39m\u001b[38;5;124mC\u001b[39m\u001b[38;5;124m\"\u001b[39m:\n\u001b[0;32m--> 143\u001b[0m   \u001b[38;5;28;01mreturn\u001b[39;00m lax\u001b[38;5;241m.\u001b[39mreshape(a, newshape, \u001b[38;5;28;01mNone\u001b[39;00m)\n\u001b[1;32m    144\u001b[0m \u001b[38;5;28;01melif\u001b[39;00m order \u001b[38;5;241m==\u001b[39m \u001b[38;5;124m\"\u001b[39m\u001b[38;5;124mF\u001b[39m\u001b[38;5;124m\"\u001b[39m:\n\u001b[1;32m    145\u001b[0m   dims \u001b[38;5;241m=\u001b[39m \u001b[38;5;28mlist\u001b[39m(\u001b[38;5;28mrange\u001b[39m(a\u001b[38;5;241m.\u001b[39mndim)[::\u001b[38;5;241m-\u001b[39m\u001b[38;5;241m1\u001b[39m])\n",
      "    \u001b[0;31m[... skipping hidden 8 frame]\u001b[0m\n",
      "File \u001b[0;32m~/miniconda3/lib/python3.11/site-packages/jax/_src/lax/lax.py:3303\u001b[0m, in \u001b[0;36m_reshape_shape_rule\u001b[0;34m(operand, new_sizes, dimensions)\u001b[0m\n\u001b[1;32m   3301\u001b[0m \u001b[38;5;28;01mif\u001b[39;00m \u001b[38;5;129;01mnot\u001b[39;00m \u001b[38;5;28mall\u001b[39m(d \u001b[38;5;241m>\u001b[39m\u001b[38;5;241m=\u001b[39m \u001b[38;5;241m0\u001b[39m \u001b[38;5;28;01mfor\u001b[39;00m d \u001b[38;5;129;01min\u001b[39;00m new_sizes):\n\u001b[1;32m   3302\u001b[0m   msg \u001b[38;5;241m=\u001b[39m \u001b[38;5;124m'\u001b[39m\u001b[38;5;124mreshape new_sizes must all be positive, got \u001b[39m\u001b[38;5;132;01m{}\u001b[39;00m\u001b[38;5;124m.\u001b[39m\u001b[38;5;124m'\u001b[39m\n\u001b[0;32m-> 3303\u001b[0m   \u001b[38;5;28;01mraise\u001b[39;00m \u001b[38;5;167;01mTypeError\u001b[39;00m(msg\u001b[38;5;241m.\u001b[39mformat(new_sizes))\n\u001b[1;32m   3304\u001b[0m \u001b[38;5;66;03m# TODO(necula): re-enable this check\u001b[39;00m\n\u001b[1;32m   3305\u001b[0m \u001b[38;5;28;01mif\u001b[39;00m (\u001b[38;5;129;01mnot\u001b[39;00m config\u001b[38;5;241m.\u001b[39mjax_dynamic_shapes \u001b[38;5;129;01mand\u001b[39;00m\n\u001b[1;32m   3306\u001b[0m     \u001b[38;5;129;01mnot\u001b[39;00m math\u001b[38;5;241m.\u001b[39mprod(np\u001b[38;5;241m.\u001b[39mshape(operand)) \u001b[38;5;241m==\u001b[39m math\u001b[38;5;241m.\u001b[39mprod(new_sizes)):\n",
      "\u001b[0;31mTypeError\u001b[0m: reshape new_sizes must all be positive, got (2, 0, -1)."
     ]
    }
   ],
   "source": [
    "def model_run(model, location):\n",
    "    for date in OBS_DATES:\n",
    "        # Output file path\n",
    "        filepath = f\"../estimates/down_scaled/thresholding/{model}/{location}\"    \n",
    "        if not os.path.exists(filepath):\n",
    "            os.makedirs(filepath)\n",
    "            \n",
    "        # Prep data\n",
    "        raw_seq = pd.read_csv(f\"../data/down_scaled/thresholding/{date}/seq_counts_{date}.tsv\", sep=\"\\t\")\n",
    "        raw_seq = raw_seq[raw_seq.location == location]\n",
    "        threses = pd.unique(raw_seq[\"thres\"])\n",
    "        for thres in threses:\n",
    "            raw_seq_thres = raw_seq[raw_seq.thres == thres].copy()\n",
    "            if len(raw_seq_thres)==0:\n",
    "                continue\n",
    "\n",
    "            # Defining data for model run\n",
    "            variant_data = ef.VariantFrequencies(raw_seq_thres, pivot=\"Omicron 21L\")\n",
    "            posterior = inference_method.fit(MODELS[model], variant_data)\n",
    "\n",
    "            # Forecast past observation date\n",
    "            forecast_from_obs_date(posterior, date, 30)\n",
    "\n",
    "            # Save frequencies\n",
    "            save_mlr_freq(posterior.samples, variant_data, PS, date, int(thres), location, filepath)\n",
    "    return None\n",
    "\n",
    "for location in LOCATIONS:\n",
    "    model_run(\"MLR\",  location)"
   ]
  }
 ],
 "metadata": {
  "kernelspec": {
   "display_name": "Python 3 (ipykernel)",
   "language": "python",
   "name": "python3"
  },
  "language_info": {
   "codemirror_mode": {
    "name": "ipython",
    "version": 3
   },
   "file_extension": ".py",
   "mimetype": "text/x-python",
   "name": "python",
   "nbconvert_exporter": "python",
   "pygments_lexer": "ipython3",
   "version": "3.11.4"
  }
 },
 "nbformat": 4,
 "nbformat_minor": 5
}
