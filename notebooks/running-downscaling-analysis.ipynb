{
 "cells": [
  {
   "cell_type": "code",
   "execution_count": 1,
   "id": "7cef3463",
   "metadata": {},
   "outputs": [
    {
     "name": "stderr",
     "output_type": "stream",
     "text": [
      "/Users/marlinfiggins/miniconda3/lib/python3.11/site-packages/tqdm/auto.py:21: TqdmWarning: IProgress not found. Please update jupyter and ipywidgets. See https://ipywidgets.readthedocs.io/en/stable/user_install.html\n",
      "  from .autonotebook import tqdm as notebook_tqdm\n"
     ]
    }
   ],
   "source": [
    "import evofr as ef\n",
    "import os\n",
    "import pandas as pd\n",
    "\n",
    "from jax import vmap\n",
    "import jax.numpy as jnp\n",
    "from jax.nn import softmax"
   ]
  },
  {
   "cell_type": "code",
   "execution_count": 2,
   "id": "1d85acd6",
   "metadata": {},
   "outputs": [],
   "source": [
    "OBS_DATES = ['2022-01-01', '2022-02-01','2022-03-01',\n",
    "         '2022-04-01','2022-05-01','2022-06-01',\n",
    "         '2022-07-01','2022-08-01','2022-09-01',\n",
    "         '2022-10-01','2022-11-01','2022-12-01']\n",
    "LOCATIONS = [\"United Kingdom\"]\n",
    "PS = [.5]"
   ]
  },
  {
   "cell_type": "code",
   "execution_count": 3,
   "id": "638769ac",
   "metadata": {},
   "outputs": [],
   "source": [
    "MODELS = {'MLR': ef.MultinomialLogisticRegression(tau=4.2)}\n",
    "inference_method = ef.InferMAP(iters=30_000, lr=4e-2)"
   ]
  },
  {
   "cell_type": "code",
   "execution_count": 4,
   "id": "9ca7a576",
   "metadata": {},
   "outputs": [],
   "source": [
    "# Helper functions for forecasting and saving MLR\n",
    "def forecast_frequencies(samples, forecast_L):\n",
    "    \"\"\"\n",
    "    Use posterior beta to forecast posterior frequenicies.\n",
    "    \"\"\"\n",
    "    \n",
    "    # Making feature matrix for forecasting\n",
    "    last_T = samples[\"freq\"].shape[1]\n",
    "    \n",
    "    X = MODELS[\"MLR\"].make_ols_feature(start=last_T, stop=last_T + forecast_L)\n",
    "    # Posterior beta\n",
    "    beta = jnp.array(samples[\"beta\"])\n",
    "    \n",
    "    # Matrix multiplication by sample\n",
    "    dot_by_sample = vmap(jnp.dot, in_axes=(None, 0), out_axes=0)\n",
    "    logits = dot_by_sample(X, beta) # Logit frequencies by variant\n",
    "    return softmax(logits, axis=-1)\n",
    "\n",
    "def forecast_from_obs_date(posterior, obs_date, days_from_obs):\n",
    "    # Compute obs_date + days_from_obs\n",
    "    n_days_to_present = (pd.to_datetime(obs_date) - posterior.data.dates[-1]).days\n",
    "    n_days_to_forecast = n_days_to_present + days_from_obs\n",
    "\n",
    "    # Forecast\n",
    "    posterior.samples[\"freq_forecast\"] = forecast_frequencies(posterior.samples, n_days_to_forecast)\n",
    "    return None\n",
    "\n",
    "def save_mlr_freq(samples, variant_data, ps, obs_date, thres, name, filepath):\n",
    "    \n",
    "    freq_now = pd.DataFrame(ef.get_freq(samples, variant_data, ps, name=name, forecast = False))\n",
    "    nowcast_dates = variant_data.dates[-60:]\n",
    "    \n",
    "    freq_now = freq_now[freq_now['date'].isin(nowcast_dates)]\n",
    "    freq_fr = pd.DataFrame(ef.get_freq(samples, variant_data, ps, name=name, forecast = True))\n",
    "    \n",
    "    freq_merged = pd.concat([freq_now, freq_fr])\n",
    "    freq_merged = freq_merged.rename(\n",
    "        columns = {'median_freq':'median_freq_nowcast','freq_upper_95':'freq_nowcast_upper_95'}, \n",
    "        inplace = False)\n",
    "\n",
    "    freq_merged.to_csv(f'{filepath}/frequencies_{obs_date}_{thres}.tsv', index = False, sep=\"\\t\")\n",
    "    return None"
   ]
  },
  {
   "cell_type": "code",
   "execution_count": 5,
   "id": "7593cc43",
   "metadata": {},
   "outputs": [
    {
     "name": "stderr",
     "output_type": "stream",
     "text": [
      "/Users/marlinfiggins/miniconda3/lib/python3.11/site-packages/evofr/data/data_helpers.py:89: UserWarning: Omicron 21L not present in variant names. Using provided order.\n",
      "  warnings.warn(\n",
      "/Users/marlinfiggins/miniconda3/lib/python3.11/site-packages/evofr/data/data_helpers.py:89: UserWarning: Omicron 21L not present in variant names. Using provided order.\n",
      "  warnings.warn(\n",
      "/Users/marlinfiggins/miniconda3/lib/python3.11/site-packages/evofr/data/data_helpers.py:89: UserWarning: Omicron 21L not present in variant names. Using provided order.\n",
      "  warnings.warn(\n",
      "/Users/marlinfiggins/miniconda3/lib/python3.11/site-packages/evofr/data/data_helpers.py:89: UserWarning: Omicron 21L not present in variant names. Using provided order.\n",
      "  warnings.warn(\n",
      "/Users/marlinfiggins/miniconda3/lib/python3.11/site-packages/evofr/data/data_helpers.py:89: UserWarning: Omicron 21L not present in variant names. Using provided order.\n",
      "  warnings.warn(\n",
      "/Users/marlinfiggins/miniconda3/lib/python3.11/site-packages/evofr/data/data_helpers.py:89: UserWarning: Omicron 21L not present in variant names. Using provided order.\n",
      "  warnings.warn(\n",
      "/Users/marlinfiggins/miniconda3/lib/python3.11/site-packages/evofr/data/data_helpers.py:89: UserWarning: Omicron 21L not present in variant names. Using provided order.\n",
      "  warnings.warn(\n",
      "/Users/marlinfiggins/miniconda3/lib/python3.11/site-packages/evofr/data/data_helpers.py:89: UserWarning: Omicron 21L not present in variant names. Using provided order.\n",
      "  warnings.warn(\n",
      "/Users/marlinfiggins/miniconda3/lib/python3.11/site-packages/evofr/data/data_helpers.py:89: UserWarning: Omicron 21L not present in variant names. Using provided order.\n",
      "  warnings.warn(\n",
      "/Users/marlinfiggins/miniconda3/lib/python3.11/site-packages/evofr/data/data_helpers.py:89: UserWarning: Omicron 21L not present in variant names. Using provided order.\n",
      "  warnings.warn(\n",
      "/Users/marlinfiggins/miniconda3/lib/python3.11/site-packages/evofr/data/data_helpers.py:89: UserWarning: Omicron 21L not present in variant names. Using provided order.\n",
      "  warnings.warn(\n"
     ]
    }
   ],
   "source": [
    "def model_run(model, location):\n",
    "    for date in OBS_DATES:\n",
    "        # Output file path\n",
    "        filepath = f\"../estimates/down_scaled/thresholding/{model}/{location}\"    \n",
    "        if not os.path.exists(filepath):\n",
    "            os.makedirs(filepath)\n",
    "            \n",
    "        # Prep data\n",
    "        raw_seq = pd.read_csv(f\"../data/down_scaled/thresholding/{date}/seq_counts_{date}.tsv\", sep=\"\\t\")\n",
    "        raw_seq = raw_seq[raw_seq.location == location]\n",
    "        threses = pd.unique(raw_seq[\"thres\"])\n",
    "        for thres in threses:\n",
    "            raw_seq_thres = raw_seq[raw_seq.thres == thres].copy()\n",
    "            if len(raw_seq_thres)==0:\n",
    "                continue\n",
    "\n",
    "            # Defining data for model run\n",
    "            variant_data = ef.VariantFrequencies(raw_seq_thres, pivot=\"Omicron 21L\")\n",
    "            posterior = inference_method.fit(MODELS[model], variant_data)\n",
    "\n",
    "            # Forecast past observation date\n",
    "            forecast_from_obs_date(posterior, date, 30)\n",
    "\n",
    "            # Save frequencies\n",
    "            save_mlr_freq(posterior.samples, variant_data, PS, date, int(thres), location, filepath)\n",
    "    return None\n",
    "\n",
    "for location in LOCATIONS:\n",
    "    model_run(\"MLR\",  location)"
   ]
  }
 ],
 "metadata": {
  "kernelspec": {
   "display_name": "Python 3 (ipykernel)",
   "language": "python",
   "name": "python3"
  },
  "language_info": {
   "codemirror_mode": {
    "name": "ipython",
    "version": 3
   },
   "file_extension": ".py",
   "mimetype": "text/x-python",
   "name": "python",
   "nbconvert_exporter": "python",
   "pygments_lexer": "ipython3",
   "version": "3.11.4"
  }
 },
 "nbformat": 4,
 "nbformat_minor": 5
}
