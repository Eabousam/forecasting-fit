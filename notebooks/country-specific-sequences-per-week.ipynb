{
 "cells": [
  {
   "cell_type": "code",
   "execution_count": 1,
   "id": "0ecb471b",
   "metadata": {},
   "outputs": [],
   "source": [
    "import numpy as np\n",
    "import pandas as pd\n",
    "import matplotlib.pyplot as plt"
   ]
  },
  {
   "cell_type": "code",
   "execution_count": 2,
   "id": "6d47be53",
   "metadata": {},
   "outputs": [],
   "source": [
    "import matplotlib as mpl\n",
    "\n",
    "\n",
    "FONT_SIZE = 12\n",
    "AXES_SIZE = FONT_SIZE * 1.5\n",
    "TICK_SIZE = FONT_SIZE * 1.25\n",
    "LEGEND_SIZE = FONT_SIZE\n",
    "\n",
    "my_rcParams = {\n",
    "    \"axes.spines.top\": False,\n",
    "    \"axes.spines.right\": False,\n",
    "    \"lines.linewidth\": 5,\n",
    "    \"font.size\": FONT_SIZE,\n",
    "    \"font.family\": \"Helvetica\",\n",
    "    \"axes.titlesize\": AXES_SIZE,\n",
    "    \"axes.labelsize\": AXES_SIZE,\n",
    "    \"xtick.labelsize\": TICK_SIZE,\n",
    "    \"ytick.labelsize\": TICK_SIZE,\n",
    "    \"legend.fontsize\": LEGEND_SIZE,\n",
    "    \"xtick.major.pad\": FONT_SIZE / 2,\n",
    "    \"ytick.major.pad\": FONT_SIZE / 2,\n",
    "}\n",
    "\n",
    "for k, v in my_rcParams.items():\n",
    "    mpl.rcParams[k] = v"
   ]
  },
  {
   "cell_type": "code",
   "execution_count": 3,
   "id": "6ba71ba3",
   "metadata": {},
   "outputs": [],
   "source": [
    "DATE_MIN = ...\n",
    "DATE_MAX = ..."
   ]
  },
  {
   "cell_type": "code",
   "execution_count": null,
   "id": "be94d893",
   "metadata": {},
   "outputs": [],
   "source": [
    "# Filter to sequences in this date range\n",
    "# Group by country\n",
    "# Plot average number of sequences per week in range"
   ]
  },
  {
   "cell_type": "code",
   "execution_count": null,
   "id": "5dfab65d",
   "metadata": {},
   "outputs": [],
   "source": [
    "# https://data.nextstrain.org/files/ncov/open/metadata.tsv.gz\n",
    "raw_metadata_reader = pd.read_csv(\n",
    "    \"../data/gisaid_metadata_pruned.tsv\", \n",
    "    sep=\"\\t\",\n",
    "    usecols=(\n",
    "        \"strain\",\n",
    "        \"date\",\n",
    "        \"date_submitted\",\n",
    "        \"country\",\n",
    "        \"division\",\n",
    "        \"Nextstrain_clade\"\n",
    "        ),\n",
    "    dtype={\n",
    "        \"country\": \"category\",\n",
    "        \"division\": \"category\",\n",
    "        \"Nextstrain_clade\": \"category\",\n",
    "        },\n",
    "    chunksize=100000)"
   ]
  },
  {
   "cell_type": "code",
   "execution_count": null,
   "id": "f3247e17",
   "metadata": {},
   "outputs": [],
   "source": [
    "# Countries of interest\n",
    "# All countries in order and then highlight countries of interest\n",
    "#locations = [\"USA\", \"Japan\", \"United Kingdom\", \"Australia\", \"Brazil\", \"South Africa\"]\n",
    "start_date = \"2021-09-01\"\n",
    "end_date = \"2022-12-31\"\n",
    "end_forecast_period = \"2023-01-31\"\n",
    "\n",
    "# Borrowing from John here\n",
    "def clean_metadata(metadata):\n",
    "    # Filter to countries\n",
    "    metadata = metadata[metadata[\"country\"].isin(locations)]\n",
    "    \n",
    "    # Remove ambigious dates\n",
    "    unambiguous_dates = (metadata[\"date\"] != \"?\") & (metadata[\"date\"].str.count(\"-\") == 2)\n",
    "    unambiguous_dates = unambiguous_dates & ~(metadata[\"date\"].str.contains(\"X\", na=True))\n",
    "    metadata = metadata[unambiguous_dates].copy()\n",
    "    \n",
    "    # Filter to date range\n",
    "    metadata[\"date\"] = pd.to_datetime(metadata[\"date\"])\n",
    "    metadata[\"date_submitted\"] = pd.to_datetime(metadata[\"date_submitted\"])\n",
    "\n",
    "    date_since_start_date = (metadata[\"date\"] >= start_date)\n",
    "    date_before_end_date = (metadata[\"date\"] <= end_forecast_period)\n",
    "    metadata = metadata[(date_since_start_date) & (date_before_end_date)].copy()\n",
    "        \n",
    "    # Filter records without NS clade\n",
    "    metadata = metadata[~pd.isnull(metadata[\"Nextstrain_clade\"])].copy()\n",
    "    \n",
    "    # Remove airport strain\n",
    "    metadata = metadata[~(metadata[\"strain\"].str.startswith(\"Japan/IC-\"))]\n",
    "    return metadata"
   ]
  },
  {
   "cell_type": "code",
   "execution_count": null,
   "id": "b01ac7b7",
   "metadata": {},
   "outputs": [],
   "source": [
    "metadata_chunks = [clean_metadata(chunk) for chunk in raw_metadata_reader]"
   ]
  },
  {
   "cell_type": "code",
   "execution_count": null,
   "id": "847c8d64",
   "metadata": {},
   "outputs": [],
   "source": [
    "metadata = pd.concat(metadata_chunks, ignore_index=True)\n",
    "metadata"
   ]
  },
  {
   "cell_type": "code",
   "execution_count": null,
   "id": "f01517dd",
   "metadata": {},
   "outputs": [],
   "source": [
    "# Steal group by week from downscaling data notebook"
   ]
  }
 ],
 "metadata": {
  "kernelspec": {
   "display_name": "Python 3 (ipykernel)",
   "language": "python",
   "name": "python3"
  },
  "language_info": {
   "codemirror_mode": {
    "name": "ipython",
    "version": 3
   },
   "file_extension": ".py",
   "mimetype": "text/x-python",
   "name": "python",
   "nbconvert_exporter": "python",
   "pygments_lexer": "ipython3",
   "version": "3.11.4"
  }
 },
 "nbformat": 4,
 "nbformat_minor": 5
}
