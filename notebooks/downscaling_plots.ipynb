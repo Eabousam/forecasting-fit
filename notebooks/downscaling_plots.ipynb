{
 "cells": [
  {
   "cell_type": "code",
   "execution_count": null,
   "id": "241b7df9",
   "metadata": {},
   "outputs": [],
   "source": [
    "import numpy as np\n",
    "import pandas as pd\n",
    "import matplotlib.pyplot as plt"
   ]
  },
  {
   "cell_type": "code",
   "execution_count": null,
   "id": "7d1e7316",
   "metadata": {},
   "outputs": [],
   "source": [
    "import matplotlib as mpl\n",
    "\n",
    "\n",
    "FONT_SIZE = 12\n",
    "AXES_SIZE = FONT_SIZE * 1.5\n",
    "TICK_SIZE = FONT_SIZE * 1.25\n",
    "LEGEND_SIZE = FONT_SIZE\n",
    "\n",
    "my_rcParams = {\n",
    "    \"axes.spines.top\": False,\n",
    "    \"axes.spines.right\": False,\n",
    "    \"lines.linewidth\": 5,\n",
    "    \"font.size\": FONT_SIZE,\n",
    "    \"font.family\": \"Helvetica\",\n",
    "    \"axes.titlesize\": AXES_SIZE,\n",
    "    \"axes.labelsize\": AXES_SIZE,\n",
    "    \"xtick.labelsize\": TICK_SIZE,\n",
    "    \"ytick.labelsize\": TICK_SIZE,\n",
    "    \"legend.fontsize\": LEGEND_SIZE,\n",
    "    \"xtick.major.pad\": FONT_SIZE / 2,\n",
    "    \"ytick.major.pad\": FONT_SIZE / 2,\n",
    "}\n",
    "\n",
    "for k, v in my_rcParams.items():\n",
    "    mpl.rcParams[k] = v"
   ]
  },
  {
   "cell_type": "markdown",
   "id": "fcc11d21",
   "metadata": {},
   "source": [
    "## Country-specific sequences per week"
   ]
  },
  {
   "cell_type": "code",
   "execution_count": null,
   "id": "2a98a476",
   "metadata": {},
   "outputs": [],
   "source": [
    "plot_df = pd.read_csv(\"../data/down_scaled/weekly_sequences_by_country.tsv\", sep=\"\\t\")\n",
    "plot_countries = [\"USA\", \n",
    "                  \"Japan\", \n",
    "                  \"United Kingdom\", \"France\", \n",
    "                  \"Germany\", \n",
    "                  \"Mexico\",\n",
    "                  \"Colombia\",\n",
    "                  \"Chile\",\n",
    "                  \"Argentina\",\n",
    "                  \"China\", \"Australia\", \n",
    "                  \"Brazil\", \"South Africa\",\n",
    "                  \"Nigeria\",\n",
    "                  \"Ghana\",\n",
    "                  \"Senegal\",\n",
    "                  \"Egypt\",\n",
    "                  \"Morocco\",\n",
    "                  \"South Korea\",\n",
    "                  \"Vietnam\",\n",
    "                  \"Philippines\",\n",
    "                  \"Singapore\",\n",
    "                  \"Malaysia\",\n",
    "                  \"India\",\n",
    "                  \"Pakistan\",\n",
    "                  \"Spain\",\n",
    "                  \"Portugal\"]\n",
    "_plot_df = plot_df[plot_df.country.isin(plot_countries)]"
   ]
  },
  {
   "cell_type": "code",
   "execution_count": null,
   "id": "6f456045",
   "metadata": {},
   "outputs": [],
   "source": [
    "THRESES = [ 100,  500, 1000, 2000, 5000]"
   ]
  },
  {
   "cell_type": "code",
   "execution_count": null,
   "id": "d5bd7564",
   "metadata": {},
   "outputs": [],
   "source": [
    "fig = plt.figure(figsize=(8., 8.), constrained_layout=True)\n",
    "spec = fig.add_gridspec(ncols=1, nrows=1)\n",
    "ax = fig.add_subplot(spec[0])\n",
    "\n",
    "def plot_country_sequencing_rates(ax, plot_df):\n",
    "    ax.bar(plot_df.country, plot_df.mean_seq_per_week, yerr= 1.96 * plot_df.sem_seq_per_week, \n",
    "           ec=\"k\", color=\"#f1ddff\", error_kw={\"elinewidth\": 1.5})\n",
    "\n",
    "    ax.set_yscale(\"log\")\n",
    "    ax.set_yticks([50, 100, 1000, 10_000] + THRESES)\n",
    "    ax.set_yticklabels([50, 100, 1000, 10_000] + THRESES)\n",
    "\n",
    "    ax.set_xticklabels(ax.get_xticklabels(), rotation=90)\n",
    "\n",
    "    for thres in THRESES:\n",
    "        ax.axhline(y=thres, linestyle =\"--\", color=\"#525252\", linewidth=1.)\n",
    "\n",
    "    ax.set_ylabel(\"Sequences per week (2022)\")\n",
    "    \n",
    "plot_country_sequencing_rates(ax, _plot_df)"
   ]
  },
  {
   "cell_type": "markdown",
   "id": "c03bd476",
   "metadata": {},
   "source": [
    "## Plotting forecast errors"
   ]
  },
  {
   "cell_type": "code",
   "execution_count": null,
   "id": "53151707",
   "metadata": {},
   "outputs": [],
   "source": [
    "LEADS_TO_PLOT = np.array([-30, -14, 0, 14, 30])\n",
    "lead_cmap =  mpl.colormaps[\"coolwarm\"]"
   ]
  },
  {
   "cell_type": "code",
   "execution_count": null,
   "id": "eb83431f",
   "metadata": {},
   "outputs": [],
   "source": [
    "errors_df = pd.read_csv(\"../errors/down_scaled_errors.tsv\", sep=\"\\t\")"
   ]
  },
  {
   "cell_type": "code",
   "execution_count": null,
   "id": "745b79e6",
   "metadata": {},
   "outputs": [],
   "source": [
    "threses = errors_df[\"thres\"].unique()"
   ]
  },
  {
   "cell_type": "code",
   "execution_count": null,
   "id": "855275b2",
   "metadata": {},
   "outputs": [],
   "source": [
    "errors_df.head()"
   ]
  },
  {
   "cell_type": "code",
   "execution_count": null,
   "id": "06e4ce76",
   "metadata": {},
   "outputs": [],
   "source": [
    "# Filter to three leads of interest\n",
    "errors = errors_df#[errors_df.lead.isin(DAYS_TO_PLOT_ERROR)]\n",
    "mean_mae = (errors[[\"thres\", \"lead\", \"pivot_date\", \"MAE\"]] # Why does mean lead differ?\n",
    "    .groupby([\"thres\", \"lead\"])\n",
    "    .agg({'MAE':['mean','sem']})\n",
    "    .reset_index()\n",
    ")\n",
    "mean_mae.columns = ['thres', 'lead', 'MAE_mean', 'MAE_sem']"
   ]
  },
  {
   "cell_type": "code",
   "execution_count": null,
   "id": "e5891c13",
   "metadata": {},
   "outputs": [],
   "source": [
    "errors"
   ]
  },
  {
   "cell_type": "code",
   "execution_count": null,
   "id": "07fc6e29",
   "metadata": {},
   "outputs": [],
   "source": [
    "def simplify_axes(ax):\n",
    "    ax.spines['right'].set_visible(False)\n",
    "    ax.spines['top'].set_visible(False)"
   ]
  },
  {
   "cell_type": "code",
   "execution_count": null,
   "id": "b105d600",
   "metadata": {},
   "outputs": [],
   "source": [
    "# Plot MAE over lead for each threshold\n",
    "fig = plt.figure(figsize=(14., 4.), constrained_layout=True)\n",
    "spec = fig.add_gridspec(ncols=3, nrows=2)\n",
    "\n",
    "# What should panels be \n",
    "\n",
    "\n",
    "def plot_error_by_thres_at_lead(ax, errors, lead, ylabel=None):\n",
    "    _errors = errors.copy()\n",
    "    if lead is not None:\n",
    "        _errors = _errors[_errors.lead == lead]\n",
    "\n",
    "    mean_errors_by_thres = _errors.groupby(\"thres\").agg({'MAE':['mean','sem']}).reset_index()    \n",
    "    ax.plot(_errors.thres, _errors.MAE, ec=\"k\", alpha=0.5)\n",
    "    ax.errorbar(mean_errors_by_thres.thres, \n",
    "                mean_errors_by_thres.MAE[\"mean\"], \n",
    "                yerr=2*mean_errors_by_thres.MAE[\"sem\"],\n",
    "                color=\"k\",\n",
    "                linewidth=2.5)\n",
    "\n",
    "\n",
    "    ax.set_xscale(\"log\")\n",
    "    ax.set_xlabel(\"Maximum # of sequences weekly\")\n",
    "    ax.set_ylabel(ylabel)\n",
    "    \n",
    "def plot_error_by_thres_at_lead(ax, errors, lead, ylabel=None, desired_thres=0.05):\n",
    "    _errors = errors.copy()\n",
    "    if lead is not None:\n",
    "        _errors = _errors[_errors.lead == lead]\n",
    "        \n",
    "    ax.boxplot([df.MAE for n,df in _errors.groupby(\"thres\")])\n",
    "    ax.set_xticklabels([n for n,df in _errors.groupby(\"thres\")])\n",
    "    \n",
    "    ax.axhline(y=desired_thres, color=\"k\", linestyle=\"--\", linewidth=1.5)\n",
    "    ax.set_xlabel(\"Maximum number of sequences weekly\")\n",
    "    ax.set_ylabel(ylabel)\n",
    "\n",
    "    \n",
    "for l, lead in enumerate(LEADS_TO_PLOT):\n",
    "    ax = fig.add_subplot(spec[l])\n",
    "    \n",
    "    if l == 0:\n",
    "        ax0 = ax\n",
    "    else:\n",
    "        ax.sharey(ax0)\n",
    "        \n",
    "    simplify_axes(ax)\n",
    "    plot_error_by_thres_at_lead(ax, errors, lead, ylabel=f\"MAE {lead} days after forecast\")\n",
    "    \n",
    "    # Changing axes\n",
    "    #ax.set_yscale(\"log\")\n",
    "    ax.set_ylim((1e-4, 1.0))\n",
    "    #ax.set_yticks([0.001, 0.005, 0.05, 0.1, 0.5, 1.0])\n",
    "    #ax.set_yticklabels([\"0.1%\", \"0.5%\", \"5%\", \"10%\", \"50%\", \"100%\"])\n",
    "\n",
    "# Change y-axes lo"
   ]
  },
  {
   "cell_type": "code",
   "execution_count": null,
   "id": "ca0193fd",
   "metadata": {},
   "outputs": [],
   "source": [
    "def plot_error_by_thres(ax, mean_mae, lead, ylabel=None):\n",
    "    _mean_mae = mean_mae.copy()\n",
    "    if lead is not None:\n",
    "        _mean_mae = _mean_mae[_mean_mae.lead == lead]\n",
    "    \n",
    "    mean_errors_by_thres = _mean_mae.groupby(\"thres\").agg({'MAE_mean':['mean','sem']}).reset_index()    \n",
    "    ax.scatter(_mean_mae.thres, _mean_mae.MAE_mean, ec=\"k\", alpha=0.3)\n",
    "    ax.errorbar(mean_errors_by_thres.thres, \n",
    "                mean_errors_by_thres.MAE_mean[\"mean\"], \n",
    "                #yerr=2*mean_errors_by_thres.MAE_mean[\"sem\"],\n",
    "                color=\"k\",\n",
    "                linewidth=2.5)\n",
    "\n",
    "\n",
    "    ax.set_xscale(\"log\")\n",
    "    ax.set_xlabel(ylabel)\n",
    "    ax.set_ylabel(\"Average MAE over all leads\")"
   ]
  },
  {
   "cell_type": "code",
   "execution_count": null,
   "id": "bf80fe48",
   "metadata": {},
   "outputs": [],
   "source": [
    "threses"
   ]
  },
  {
   "cell_type": "code",
   "execution_count": null,
   "id": "d9cd2bde",
   "metadata": {},
   "outputs": [],
   "source": [
    "# Plot MAE over lead for each threshold\n",
    "fig = plt.figure(figsize=(18., 6.), constrained_layout=True)\n",
    "spec = fig.add_gridspec(ncols=6, nrows=2)\n",
    "\n",
    "def plot_error_by_thres(ax, mean_mae, thres, ylabel=None, desired_thres=0.05):\n",
    "    _mean_mae = mean_mae.copy()\n",
    "    if lead is not None:\n",
    "        _mean_mae = _mean_mae[_mean_mae.thres == thres]\n",
    "    \n",
    "    ax.plot(_mean_mae.lead, _mean_mae.MAE_mean, alpha=0.4)\n",
    "    ax.fill_between(_mean_mae.lead, \n",
    "                    _mean_mae.MAE_mean - 2*_mean_mae.MAE_sem, \n",
    "                    _mean_mae.MAE_mean + 2*_mean_mae.MAE_sem,\n",
    "                    alpha=0.1)\n",
    "\n",
    "    ax.set_xlabel(\"Days from forecast\")\n",
    "    ax.set_ylabel(ylabel)\n",
    "    ax.axhline(y=desired_thres, color=\"k\", linestyle=\"--\", linewidth=1.5)\n",
    "\n",
    "for t, thres in enumerate(threses):\n",
    "    ax = fig.add_subplot(spec[t])\n",
    "    \n",
    "    if t == 0:\n",
    "        ax0 = ax\n",
    "    else:\n",
    "        ax.sharey(ax0)\n",
    "        \n",
    "    simplify_axes(ax)\n",
    "    plot_error_by_thres(ax, mean_mae, thres, ylabel=f\"Average MAE \\n {thres} sequences weekly\")\n",
    "    ax.set_xlim((-30,30))\n",
    "    ax.set_xticks([-30, -14, 0, 14, 30]) # Can find first point you cross accuracy threshold @ each sequencing thres\n",
    "    \n",
    "# Need to repeat for given leads\n",
    "# Picking thresholds that are like actual historical / country-like rates\n",
    "\n",
    "# Can we make a companion figure for this that shows what each countries sequencing effort \n",
    "# looks like currently in terms of sequences weekly (can tie in colors from rest of manuscript)"
   ]
  },
  {
   "cell_type": "code",
   "execution_count": null,
   "id": "79f7fa7d",
   "metadata": {},
   "outputs": [],
   "source": [
    "# Porportion less than desired_threshold"
   ]
  },
  {
   "cell_type": "code",
   "execution_count": null,
   "id": "e167e417",
   "metadata": {},
   "outputs": [],
   "source": [
    "desired_thres=0.05\n",
    "\n",
    "errors[\"acceptable\"] = (errors.MAE < desired_thres)\n",
    "\n",
    "mean_acceptable = (errors[[\"thres\", \"lead\", \"pivot_date\", \"acceptable\"]] # Why does mean lead differ?\n",
    "    .groupby([\"thres\", \"lead\"])\n",
    "     .agg({'acceptable':['mean','sem']})\n",
    "    .reset_index()\n",
    "\n",
    ")\n",
    "mean_acceptable.columns = ['thres', 'lead', 'acceptable_mean', 'acceptable_sem']"
   ]
  },
  {
   "cell_type": "code",
   "execution_count": null,
   "id": "cd52416a",
   "metadata": {},
   "outputs": [],
   "source": [
    "mean_acceptable"
   ]
  },
  {
   "cell_type": "code",
   "execution_count": null,
   "id": "c73b6dc3",
   "metadata": {},
   "outputs": [],
   "source": [
    "# Plot MAE over lead for each threshold\n",
    "fig = plt.figure(figsize=(17., 6.), constrained_layout=True)\n",
    "spec = fig.add_gridspec(ncols=6, nrows=2)\n",
    "\n",
    "def plot_accept_by_thres(ax, mean_accept, thres, ylabel=None):\n",
    "    _mean_accept = mean_accept.copy()\n",
    "    if lead is not None:\n",
    "        _mean_accept = _mean_accept[_mean_accept.thres == thres]\n",
    "    \n",
    "    ax.plot(_mean_accept.lead, _mean_accept.acceptable_mean, alpha=0.4)\n",
    "    ax.fill_between(_mean_accept.lead, \n",
    "                    _mean_accept.acceptable_mean - 2*_mean_accept.acceptable_sem, \n",
    "                    _mean_accept.acceptable_mean + 2*_mean_accept.acceptable_sem,\n",
    "                    alpha=0.1)\n",
    "\n",
    "    ax.set_xlabel(\"Days from forecast\")\n",
    "    ax.set_ylabel(ylabel)\n",
    "    \n",
    "#ax = fig.add_subplot(spec[0])\n",
    "for t, thres in enumerate(threses):\n",
    "    ax = fig.add_subplot(spec[t])\n",
    "    \n",
    "    if t == 0:\n",
    "        ax0 = ax\n",
    "    else:\n",
    "        ax.sharey(ax0)\n",
    "        \n",
    "    simplify_axes(ax)\n",
    "    plot_accept_by_thres(ax, mean_acceptable, thres, ylabel=f\"Proportion with MAE<5% \\n {thres} sequences weekly\")\n",
    "    ax.set_xlim((-30,30))\n",
    "    ax.set_xticks([-30, -14, 0, 14, 30]) # Can find first point you cross accuracy threshold @ each sequencing thres\n",
    "\n"
   ]
  },
  {
   "cell_type": "code",
   "execution_count": null,
   "id": "bc7acb34",
   "metadata": {},
   "outputs": [],
   "source": [
    "# Thre\n",
    "\n",
    "# Plot MAE over lead for each threshold\n",
    "fig = plt.figure(figsize=(6., 4.), constrained_layout=True)\n",
    "spec = fig.add_gridspec(ncols=1, nrows=1)\n",
    "ax = fig.add_subplot(spec[0])\n",
    "\n",
    "def plot_mae_by_thres_at_lead(ax, mean_mae, leads, cmap = mpl.colormaps[\"plasma\"], ylabel=None, desired_thres=0.05, legend=True):\n",
    "    simplify_axes(ax)\n",
    "    _mean_mae = mean_mae.copy()\n",
    "    if leads is not None:\n",
    "        _mean_mae = _mean_mae[_mean_mae.lead.isin(leads)]\n",
    "                \n",
    "    for n, group in _mean_mae.groupby(\"lead\"):        \n",
    "        color = cmap((n - leads[0]) / (leads[-1] - leads[0]))\n",
    "        ax.scatter(group.thres, group.MAE_mean, ec=\"k\", label=f\"{n} days\", color=color)\n",
    "        ax.plot(group.thres, group.MAE_mean, linewidth=1.0, color=color)\n",
    "    ax.axhline(y=desired_thres, color=\"k\", linestyle=\"--\", linewidth=1.5)\n",
    "    ax.set_xlabel(\"Maximum number of sequences weekly\")\n",
    "    ax.set_ylabel(ylabel)\n",
    "    if legend:\n",
    "        ax.legend()\n",
    "\n",
    "plot_mae_by_thres_at_lead(ax, mean_mae, LEADS_TO_PLOT, cmap=lead_cmap,\n",
    "                                  ylabel=\"Mean MAE\" )"
   ]
  },
  {
   "cell_type": "code",
   "execution_count": null,
   "id": "b481b362",
   "metadata": {},
   "outputs": [],
   "source": [
    "# Threshold is on x-axis, Percent with MAE less than 0.05 is on y-axis?\n",
    "# At different leads?\n",
    "\n",
    "# Answers: What number of sequences should pick to ensure our forecast error is less than 0.05 x days out?\n",
    "\n",
    "# Plot MAE over lead for each threshold\n",
    "fig = plt.figure(figsize=(6., 4.), constrained_layout=True)\n",
    "spec = fig.add_gridspec(ncols=1, nrows=1)\n",
    "ax = fig.add_subplot(spec[0])\n",
    "\n",
    "def plot_prop_accept_by_thres_at_lead(ax, mean_accept, leads, cmap = mpl.colormaps[\"plasma\"], ylabel=None, desired_thres=0.05):\n",
    "    simplify_axes(ax)\n",
    "    _mean_accept = mean_accept.copy()\n",
    "    if leads is not None:\n",
    "        _mean_accept = _mean_accept[_mean_accept.lead.isin(leads)]\n",
    "                \n",
    "    for n, group in _mean_accept.groupby(\"lead\"):\n",
    "        color = cmap((n - leads[0]) / (leads[-1] - leads[0]))\n",
    "        ax.scatter(group.thres, group.acceptable_mean, ec=\"k\", label=f\"{n} days\", color=color)\n",
    "        ax.plot(group.thres, group.acceptable_mean, linewidth=1.0, color=color)\n",
    "\n",
    "    #ax.set_xticklabels([n for n,df in _mean_accept.groupby(\"thres\")])\n",
    "    #ax.fill_between(_mean_accept.thres, \n",
    "    #                _mean_accept.acceptable_mean - 2*_mean_accept.acceptable_sem, \n",
    "    #                _mean_accept.acceptable_mean + 2*_mean_accept.acceptable_sem,\n",
    "    #                alpha=0.1)\n",
    "    ax.set_xlabel(\"Maximum number of sequences weekly\")\n",
    "    ax.set_ylabel(ylabel)\n",
    "    ax.set_yticks([0.5, 0.6, 0.7, 0.8, 0.9])\n",
    "    ax.legend()\n",
    "\n",
    "plot_prop_accept_by_thres_at_lead(ax, mean_acceptable, LEADS_TO_PLOT, lead_cmap,\n",
    "                                  ylabel=\"Porportion of forecasts within 5%\\n of true frequency\" )"
   ]
  },
  {
   "cell_type": "markdown",
   "id": "ffbfc58c",
   "metadata": {},
   "source": [
    "# Constructing figure"
   ]
  },
  {
   "cell_type": "code",
   "execution_count": null,
   "id": "39cf419b",
   "metadata": {
    "scrolled": true
   },
   "outputs": [],
   "source": [
    "import string \n",
    "fig = plt.figure(figsize=(12., 10.), constrained_layout=True)\n",
    "spec = fig.add_gridspec(ncols=2, nrows=2)\n",
    "\n",
    "# Empirical sequencing\n",
    "ax_empirical = fig.add_subplot(spec[0:2])\n",
    "plot_country_sequencing_rates(ax_empirical, _plot_df)\n",
    "\n",
    "# MAE\n",
    "ax_mae = fig.add_subplot(spec[2])\n",
    "plot_mae_by_thres_at_lead(ax_mae, mean_mae, LEADS_TO_PLOT, lead_cmap,\n",
    "                                  ylabel=\"Mean MAE\", legend=False)\n",
    "\n",
    "# Prop acceptabble\n",
    "ax_prop = fig.add_subplot(spec[3])\n",
    "plot_prop_accept_by_thres_at_lead(ax_prop, mean_acceptable, LEADS_TO_PLOT, lead_cmap,\n",
    "                                  ylabel=\"Porportion of forecasts within 5%\\n of true frequency\" )\n",
    "\n",
    "# Add axis labels\n",
    "\n",
    "axes = [ax_empirical, ax_mae, ax_prop]\n",
    "ax_labels = string.ascii_uppercase \n",
    "\n",
    "for ax, ax_label in zip(axes, ax_labels):\n",
    "    ax.text(-0.05, 1.05, ax_label, transform=ax.transAxes, size=24, weight='bold')"
   ]
  },
  {
   "cell_type": "code",
   "execution_count": null,
   "id": "ecfe87ff",
   "metadata": {},
   "outputs": [],
   "source": [
    "fig.savefig(\"../manuscript/figures/downscaling_sequencing.png\")"
   ]
  }
 ],
 "metadata": {
  "kernelspec": {
   "display_name": "Python 3 (ipykernel)",
   "language": "python",
   "name": "python3"
  },
  "language_info": {
   "codemirror_mode": {
    "name": "ipython",
    "version": 3
   },
   "file_extension": ".py",
   "mimetype": "text/x-python",
   "name": "python",
   "nbconvert_exporter": "python",
   "pygments_lexer": "ipython3",
   "version": "3.11.4"
  }
 },
 "nbformat": 4,
 "nbformat_minor": 5
}
