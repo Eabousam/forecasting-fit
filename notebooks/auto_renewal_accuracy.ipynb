{
 "cells": [
  {
   "cell_type": "code",
   "execution_count": 78,
   "id": "101861e7-307b-4060-bdd9-d6a14eb374d8",
   "metadata": {},
   "outputs": [],
   "source": [
    "import pandas as pd\n",
    "import jax.numpy as jnp\n",
    "import evofr as ef\n",
    "from numpyro.infer.autoguide import AutoDelta, AutoMultivariateNormal\n",
    "from pathlib import Path\n",
    "import os\n",
    "from jax import vmap\n",
    "import jax.numpy as jnp\n",
    "from jax.nn import softmax"
   ]
  },
  {
   "cell_type": "code",
   "execution_count": 79,
   "id": "4293fd4c-1aed-4255-8472-d7148b72e65b",
   "metadata": {},
   "outputs": [
    {
     "data": {
      "text/plain": [
       "'/Users/eslamabousamra/rt_frq_dyn_datasets/ncov-forecasting-fit'"
      ]
     },
     "execution_count": 79,
     "metadata": {},
     "output_type": "execute_result"
    }
   ],
   "source": [
    "cwd = os.getcwd()\n",
    "cwd"
   ]
  },
  {
   "cell_type": "code",
   "execution_count": 9,
   "id": "69434412-e7a5-4653-b355-092140960a5d",
   "metadata": {},
   "outputs": [],
   "source": [
    "os.chdir('/Users/eslamabousamra/rt_frq_dyn_datasets/ncov-forecasting-fit')"
   ]
  },
  {
   "cell_type": "code",
   "execution_count": 80,
   "id": "00a5b2c1-b678-4c94-9bfd-52ace164fed4",
   "metadata": {},
   "outputs": [],
   "source": [
    "#Getting sequences data from commit dates\n",
    "dates = ['2022-03-21','2022-05-17','2022-06-22','2022-03-03','2022-05-28','2022-06-14',\n",
    "         '2022-02-04','2022-02-08']\n",
    "\n",
    "#'2022-06-22','2022-03-03','2022-05-28','2022-06-14'\n",
    "#'2022-02-04','2022-02-08','2022-02-18','2022-02-23',\n",
    "#         '2022-02-28','2022-03-03','2022-03-08','2022-03-15',\n",
    "#         '2022-03-21','2022-03-25','2022-04-07','2022-04-14','2022-04-27'\n",
    "#         ,'2022-05-06','2022-05-17','2022-05-20','2022-05-28','2022-06-09'\n",
    "#         ,'2022-06-14',\n",
    "\n",
    "#specifying location to run model on\n",
    "locations = [\"USA\", \"United Kingdom\"]\n",
    "\n"
   ]
  },
  {
   "cell_type": "code",
   "execution_count": 81,
   "id": "af407e4a-1756-40f7-9ee5-bad020b6efb0",
   "metadata": {},
   "outputs": [],
   "source": [
    "# Defining model\n",
    "seed_L = 14\n",
    "forecast_L = 14\n",
    "ps = [0.95, 0.8, 0.5]\n",
    "# Get delays\n",
    "v_names = ['Delta', \n",
    "           'Omicron 21L', \n",
    "           'Omicron 21K', \n",
    "           'Omicron 22A', \n",
    "           'Omicron 22B', \n",
    "           'Omicron 22C', \n",
    "           'other']\n",
    "\n",
    "gen = ef.pad_delays(\n",
    "    [ef.discretise_gamma(mn=4.4, std=1.2), # Delta\n",
    "     ef.discretise_gamma(mn=3.1, std=1.2), # Omicron 21L\n",
    "     ef.discretise_gamma(mn=3.1, std=1.2), # Omicron 21K #3.1 std 1.2 \n",
    "     ef.discretise_gamma(mn=3.1, std=1.2), # Omicron 22A\n",
    "     ef.discretise_gamma(mn=3.1, std=1.2), # Omicron 22B\n",
    "     ef.discretise_gamma(mn=3.1, std=1.2), # Omicron 22C\n",
    "     ef.discretise_gamma(mn=4.4, std=1.2)] # Other\n",
    "    )\n",
    "\n",
    "delays = ef.pad_delays([ef.discretise_lognorm(mn=3.1, std=1.0)])  \n",
    "\n",
    "basis_fn = ef.Spline(order = 4, k = 10)\n",
    "#dict for models\n",
    "model_type = dict()\n",
    "\n",
    "model_type['FGA'] = ef.RenewalModel(gen, delays, seed_L, forecast_L, k=10,\n",
    "                RLik = ef.FixedGA(0.1), #Likelihood on effective reproduction number (GARW depend on R and gen time)\n",
    "                CLik = ef.ZINegBinomCases(0.05), #Case Likelihood\n",
    "                SLik = ef.DirMultinomialSeq(100), #Sequence Likelihood\n",
    "                v_names = v_names,\n",
    "                basis_fn = basis_fn)\n",
    "\n",
    "model_type['GARW'] = ef.RenewalModel(gen, delays, seed_L, forecast_L, k=10,\n",
    "                RLik = ef.GARW(0.1,0.1), #Likelihood on effective reproduction number (GARW depend on R and gen time)\n",
    "                CLik = ef.ZINegBinomCases(0.05), #Case Likelihood\n",
    "                SLik = ef.DirMultinomialSeq(100), #Sequence Likelihood\n",
    "                v_names = v_names,\n",
    "                basis_fn = basis_fn)\n",
    "model_type['GARW-N'] = ef.RenewalModel(gen, delays, seed_L, forecast_L, k=10,\n",
    "                RLik = ef.GARW(0.1,0.01, prior_family='Normal'), #Likelihood on effective reproduction number (GARW depend on R and gen time)\n",
    "                CLik = ef.ZINegBinomCases(0.05), #Case Likelihood\n",
    "                SLik = ef.DirMultinomialSeq(100), #Sequence Likelihood\n",
    "                v_names = v_names,\n",
    "                basis_fn = basis_fn)\n",
    "model_type['MLR'] = ef.MultinomialLogisticRegression(tau=4.2)\n",
    "\n",
    "# defining inference method\n",
    "svi_fullrank = ef.InferFullRank(iters = 50_000, lr = 4e-3, num_samples=1000)"
   ]
  },
  {
   "cell_type": "code",
   "execution_count": 82,
   "id": "80983345-ebbe-4c71-9da6-7d9e97631bd4",
   "metadata": {},
   "outputs": [],
   "source": [
    "#export posterior frequencies forecast and no forecast\n",
    "def save_freq(samples, variant_data, ps, forecast_date, name, filepath):\n",
    "    #only need last 14 days\n",
    "    freq_now = pd.DataFrame(ef.get_freq(samples, variant_data, ps, name=name, forecast = False))\n",
    "    #Get the freq dates nowcast period\n",
    "    nowcast_dates = variant_data.dates[-14:]\n",
    "    freq_now = freq_now[freq_now['date'].isin(nowcast_dates)]\n",
    "    freq_fr = pd.DataFrame(ef.get_freq(samples, variant_data, ps, name=name, forecast = True))\n",
    "    freq_merged = pd.concat([freq_now, freq_fr])\n",
    "    #freq_now = freq_now.rename(columns = {'median_freq':'median_freq_nowcast','freq_upper_95':'freq_nowcast_upper_95'}, inplace = False)\n",
    "    \n",
    "    #rename intervals\n",
    "    freq_merged = freq_merged.rename(columns = {'median_freq':'median_freq_nowcast','freq_upper_95':'freq_nowcast_upper_95'}, inplace = False)\n",
    "\n",
    "    freq_merged.to_csv(f'{filepath}/freq_full_{forecast_date}.csv', index = False)\n",
    "    #freq_now.to_csv(f'{filepath}/freq_nowcast_{forecast_date}.csv', index = False)\n",
    "    #freq_fr.to_csv(f'{filepath}/freq_forecast_{forecast_date}.csv', index = False)\n",
    "    "
   ]
  },
  {
   "cell_type": "code",
   "execution_count": 83,
   "id": "b2a1218f-9c97-488e-97db-5ba08c1d1102",
   "metadata": {},
   "outputs": [],
   "source": [
    "def forecast_frequencies(samples, mlr, forecast_L):\n",
    "    \"\"\"\n",
    "    Use posterior beta to forecast posterior frequenicies.\n",
    "    \"\"\"\n",
    "    \n",
    "    # Making feature matrix for forecasting\n",
    "    last_T = samples[\"freq\"].shape[1]\n",
    "    X = mlr.make_ols_feature(start=last_T, stop=last_T + forecast_L)\n",
    "    \n",
    "    # Posterior beta\n",
    "    beta = jnp.array(samples[\"beta\"])\n",
    "    \n",
    "    # Matrix multiplication by sample\n",
    "    dot_by_sample = vmap(jnp.dot, in_axes=(None, 0), out_axes=0)\n",
    "    logits = dot_by_sample(X, beta) # Logit frequencies by variant\n",
    "    return softmax(logits, axis=-1)\n",
    "\n"
   ]
  },
  {
   "cell_type": "code",
   "execution_count": 84,
   "id": "81272c60-aaa4-4ca1-8c9f-24004b1310e4",
   "metadata": {},
   "outputs": [],
   "source": [
    "models = ['MLR','GARW-N','FGA','GARW']\n",
    "\n",
    "\n",
    "#function to input models \n",
    "def model_run(model):\n",
    "    for location in locations:\n",
    "        for date in dates:\n",
    "            #Output file path\n",
    "            filepath = f\"./plot-est/cast_estimates_full_{model}/{location}\"    \n",
    "            if not os.path.exists(filepath):\n",
    "                os.makedirs(filepath)\n",
    "\n",
    "            #read sequences\n",
    "            raw_seq = pd.read_csv(f\"data/{date}/seq-counts_{date}.tsv\", sep=\"\\t\")\n",
    "            raw_cases = pd.read_csv(f\"data/{date}/case-counts_{date}.tsv\", sep=\"\\t\")\n",
    "            raw_cases = raw_cases[raw_cases.location == location]\n",
    "            raw_seq = raw_seq[raw_seq.location == location]\n",
    "            if len(raw_cases)==0:\n",
    "                continue\n",
    "\n",
    "            #defining variant data (freq and seq)\n",
    "            if model == 'MLR':\n",
    "                variant_data = ef.VariantFrequencies(raw_seq)\n",
    "                posterior = svi_fullrank.fit(model_type[model], variant_data)\n",
    "                posterior.samples[\"freq_forecast\"] = forecast_frequencies(posterior.samples, model_type[model], 14)\n",
    "            else:\n",
    "                variant_data = ef.CaseFrequencyData(raw_cases=raw_cases, raw_seq=raw_seq)\n",
    "                posterior = svi_fullrank.fit(model_type[model], variant_data)\n",
    "            #running the model\n",
    "            save_freq(posterior.samples, variant_data, ps, date, location, filepath)\n",
    "            \n",
    "    return None\n",
    " \n",
    "for model in models:\n",
    "    model_run(model)\n",
    "        \n",
    "    "
   ]
  }
 ],
 "metadata": {
  "kernelspec": {
   "display_name": "Python 3 (ipykernel)",
   "language": "python",
   "name": "python3"
  },
  "language_info": {
   "codemirror_mode": {
    "name": "ipython",
    "version": 3
   },
   "file_extension": ".py",
   "mimetype": "text/x-python",
   "name": "python",
   "nbconvert_exporter": "python",
   "pygments_lexer": "ipython3",
   "version": "3.10.4"
  }
 },
 "nbformat": 4,
 "nbformat_minor": 5
}
