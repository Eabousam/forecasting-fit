{
 "cells": [
  {
   "cell_type": "code",
   "execution_count": 34,
   "id": "03fb4b76-7d51-4853-b3ce-7ddf1ea6301b",
   "metadata": {},
   "outputs": [],
   "source": [
    "import fileinput\n",
    "import requests\n",
    "import git\n",
    "from git import repo\n",
    "import pandas as pd\n",
    "import os\n",
    "from pathlib import Path\n"
   ]
  },
  {
   "cell_type": "code",
   "execution_count": null,
   "id": "356921cd-fa57-420c-9baa-2fb2c11f52f2",
   "metadata": {},
   "outputs": [],
   "source": [
    "####obtaining commits for case counts\n",
    "\n",
    "g = git.Git(\"../rt-from-frequency-dynamics\")\n",
    "full_commit = list(g.log(\"--follow\",\"--pretty=short\", \"--\", \"data/omicron-countries-split/omicron-countries-split_location-case-counts.tsv\").split('\\n'))\n",
    "commits = list(g.log(\"--follow\",\"--pretty=%H\", \"--\", \"data/omicron-countries-split/omicron-countries-split_location-case-counts.tsv\").split('\\n'))\n",
    "dates = list(g.log(\"--follow\",\"--pretty=%as\", \"--\", \"data/omicron-countries-split/omicron-countries-split_location-case-counts.tsv\").split('\\n'))\n",
    "\n",
    "commits"
   ]
  },
  {
   "cell_type": "code",
   "execution_count": null,
   "id": "0a453ec3-166e-4132-974a-7c1d22606d5b",
   "metadata": {},
   "outputs": [],
   "source": [
    "###obtaining commits for sequences counts\n",
    "\n",
    "#full_commit_seq = list(g.log(\"--follow\",\"--pretty=short\", \"--\", \"data/omicron-countries-split/omicron-countries-split_location-variant-sequence-counts.tsv\").split('\\n'))\n",
    "#commits_seq = list(g.log(\"--follow\",\"--pretty=%H\", \"--\", \"data/omicron-countries-split/omicron-countries-split_location-variant-sequence-counts.tsv\").split('\\n'))\n",
    "#dates_seq = list(g.log(\"--follow\",\"--pretty=%as\", \"--\", \"data/omicron-countries-split/omicron-countries-split_location-variant-sequence-counts.tsv\").split('\\n'))\n",
    "\n",
    "\n"
   ]
  },
  {
   "cell_type": "code",
   "execution_count": null,
   "id": "4f93eb74-d60f-4920-9316-52b465cfe32b",
   "metadata": {},
   "outputs": [],
   "source": [
    "commits"
   ]
  },
  {
   "cell_type": "code",
   "execution_count": null,
   "id": "6b1b627c-fa79-46ab-be01-f74fb290d55d",
   "metadata": {},
   "outputs": [],
   "source": [
    "replace_text= commits\n",
    "#filedata = replace_text.read().split()\n",
    "print(replace_text)"
   ]
  },
  {
   "cell_type": "code",
   "execution_count": null,
   "id": "e5884581-7cda-4aea-9dd4-5c3fe5b1556f",
   "metadata": {},
   "outputs": [],
   "source": [
    "BASE_URL_case = \"https://raw.githubusercontent.com/blab/rt-from-frequency-dynamics/commitid/data/omicron-countries-split/omicron-countries-split_location-case-counts.tsv\"\n",
    "BASE_URL_seq = \"https://raw.githubusercontent.com/blab/rt-from-frequency-dynamics/commitid/data/omicron-countries-split/omicron-countries-split_location-variant-sequence-counts.tsv\"\n",
    "\n"
   ]
  },
  {
   "cell_type": "code",
   "execution_count": null,
   "id": "a8f2d5d1-34d3-4bf9-bfb5-4a246be6b4a5",
   "metadata": {},
   "outputs": [],
   "source": [
    "#generated_link = open('generated_links.txt', 'w')\n",
    "commit_urls_case = []\n",
    "for i in range(len(commits)):\n",
    "    commit_urls_case.append(BASE_URL_case.replace('commitid',commits[i]))        \n",
    "commit_urls_case"
   ]
  },
  {
   "cell_type": "code",
   "execution_count": null,
   "id": "67294200-7894-470b-af44-cf1bd9ba740f",
   "metadata": {},
   "outputs": [],
   "source": [
    "commit_urls_seq = []\n",
    "for i in range(len(commits)):\n",
    "    commit_urls_seq.append(BASE_URL_seq.replace('commitid',commits[i]))        \n",
    "commit_urls_seq"
   ]
  },
  {
   "cell_type": "code",
   "execution_count": null,
   "id": "42bac352-095b-4f77-810c-1e992ad3aac4",
   "metadata": {},
   "outputs": [],
   "source": [
    "for date, url in zip(dates,commit_urls_case):\n",
    "    this_df = pd.read_csv(url, sep=\"\\t\")\n",
    "    print(this_df)\n",
    "    this_df.to_csv(f\"case-counts_{date}.tsv\", sep=\"\\t\")"
   ]
  },
  {
   "cell_type": "code",
   "execution_count": null,
   "id": "3f1d72e4-64af-4b39-acf0-d0f790073a06",
   "metadata": {},
   "outputs": [],
   "source": [
    "for date, url in zip(dates,commit_urls_seq):\n",
    "    this_df = pd.read_csv(url, sep=\"\\t\")\n",
    "    print(this_df)\n",
    "    this_df.to_csv(f\"seq-counts_{date}.tsv\", sep=\"\\t\")"
   ]
  },
  {
   "cell_type": "code",
   "execution_count": 50,
   "id": "5ec2988f-af3b-4369-8e31-d2c2bd39836d",
   "metadata": {},
   "outputs": [],
   "source": [
    "for date, commit in zip(dates, commits):\n",
    "    # Make folder for this date\n",
    "    path = \"data/\" + date\n",
    "    if not os.path.exists(path):\n",
    "        os.mkdir(path)\n",
    "    # get case url\n",
    "    commit_url_case = BASE_URL_case.replace('commitid',commit)\n",
    "    # get seq url\n",
    "    commit_url_seq = BASE_URL_seq.replace('commitid',commit)\n",
    "    \n",
    "    # save both in folder\n",
    "    this_df = pd.read_csv(commit_url_case, sep=\"\\t\")\n",
    "    this_df.to_csv(f\"./data/{date}/case-counts_{date}.tsv\", index=False, sep=\"\\t\")\n",
    "    other_df = pd.read_csv(commit_url_seq, sep=\"\\t\")\n",
    "    other_df.to_csv(f\"./data/{date}/seq-counts_{date}.tsv\", index=False, sep=\"\\t\")\n",
    "    #output_dir.mkdir(parents=True, exist_ok=True)\n",
    "\n",
    "    \n",
    "    \n",
    "    "
   ]
  },
  {
   "cell_type": "code",
   "execution_count": null,
   "id": "70f92dcb-2e8e-4b58-bced-fd6d431a6582",
   "metadata": {},
   "outputs": [],
   "source": []
  }
 ],
 "metadata": {
  "kernelspec": {
   "display_name": "Python 3 (ipykernel)",
   "language": "python",
   "name": "python3"
  },
  "language_info": {
   "codemirror_mode": {
    "name": "ipython",
    "version": 3
   },
   "file_extension": ".py",
   "mimetype": "text/x-python",
   "name": "python",
   "nbconvert_exporter": "python",
   "pygments_lexer": "ipython3",
   "version": "3.9.12"
  }
 },
 "nbformat": 4,
 "nbformat_minor": 5
}
