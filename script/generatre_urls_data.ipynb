{
 "cells": [
  {
   "cell_type": "code",
   "execution_count": 10,
   "id": "1af6cf92-08f8-45ee-9c4c-e47fb57e7b0a",
   "metadata": {},
   "outputs": [],
   "source": [
    "import fileinput\n",
    "import requests\n",
    "import git\n",
    "from git import repo\n",
    "import pandas as pd\n",
    "import os\n",
    "import argparse"
   ]
  },
  {
   "cell_type": "code",
   "execution_count": 11,
   "id": "b8feb6f3-f4d2-4724-9ac0-fc48ebc06049",
   "metadata": {},
   "outputs": [],
   "source": [
    "BASE_URL_CASE = \"https://raw.githubusercontent.com/blab/rt-from-frequency-dynamics/commitid/data/omicron-countries-split/omicron-countries-split_location-case-counts.tsv\"\n",
    "BASE_URL_SEQ = \"https://raw.githubusercontent.com/blab/rt-from-frequency-dynamics/commitid/data/omicron-countries-split/omicron-countries-split_location-variant-sequence-counts.tsv\"\n",
    "\n",
    "parser = argparse.ArgumentParser()\n",
    "parser.add_argument(\"--location\", type=str, help=\"Repo-location\")\n",
    "parser.add_argument(\"--output\", type =str, help=\"output-location\")\n",
    "args = parser.parse_args()\n",
    "\n",
    "####obtaining commits for case counts and seqs\n",
    "g = git.Git(args.location)\n",
    "commits = list(g.log(\"--follow\",\"--pretty=%H\", \"--\", \"data/omicron-countries-split/omicron-countries-split_location-case-counts.tsv\").split('\\n'))\n",
    "dates = list(g.log(\"--follow\",\"--pretty=%as\", \"--\", \"data/omicron-countries-split/omicron-countries-split_location-case-counts.tsv\").split('\\n'))\n",
    "\n",
    "#obtaining datasets and date_stamping output files\n",
    "for date, commit in zip(dates, commits):\n",
    "    #making folder\n",
    "    path = args.output + date\n",
    "    if not os.path.exists(path):\n",
    "        os.mkdir(path)\n",
    "\n",
    "    # get case url\n",
    "    commit_url_case = BASE_URL_CASE.replace('commitid',commit)\n",
    "    # get seq url\n",
    "    commit_url_seq = BASE_URL_SEQ.replace('commitid',commit)\n",
    "    \n",
    "    # save both in folder\n",
    "    case_df = pd.read_csv(commit_url_case, sep=\"\\t\")\n",
    "    case_df.to_csv(f\"{path}/case-counts_{date}.tsv\", index=False, sep=\"\\t\")\n",
    "    seq_df = pd.read_csv(commit_url_seq, sep=\"\\t\")\n",
    "    seq_df.to_csv(f\"{path}/seq-counts_{date}.tsv\", index=False, sep=\"\\t\")\n",
    "    "
   ]
  }
 ],
 "metadata": {
  "kernelspec": {
   "display_name": "Python 3 (ipykernel)",
   "language": "python",
   "name": "python3"
  },
  "language_info": {
   "codemirror_mode": {
    "name": "ipython",
    "version": 3
   },
   "file_extension": ".py",
   "mimetype": "text/x-python",
   "name": "python",
   "nbconvert_exporter": "python",
   "pygments_lexer": "ipython3",
   "version": "3.9.12"
  }
 },
 "nbformat": 4,
 "nbformat_minor": 5
}
